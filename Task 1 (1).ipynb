{
 "cells": [
  {
   "cell_type": "code",
   "execution_count": 2,
   "id": "42457614-38ce-484a-a76b-0430a0f4c7be",
   "metadata": {},
   "outputs": [],
   "source": [
    "def product_of_numbers(lst):\n",
    "    flat_lst=[]\n",
    "    for item in lst:\n",
    "        if isinstance(item,(int,float)):\n",
    "            flat_lst.append(item)\n",
    "        elif isinstance(item,list):\n",
    "            flat_lst.extend([i for i in item if isinstance(i,(int,float))])\n",
    "        elif isinstance(item,tuple):\n",
    "            flat_lst.extend([i for i in item if isinstance(i,(int,float))])\n",
    "        elif isinstance(item,dict):\n",
    "            flat_lst.extend([i for i in item.values() if isinstance(i,(int,float))])\n",
    "            flat_lst.extend([i for i in item.keys() if isinstance (i,(int,float))])\n",
    "        else:\n",
    "            continue\n",
    "    product = 1\n",
    "    for num in flat_lst:\n",
    "        product *= num \n",
    "    return product"
   ]
  },
  {
   "cell_type": "code",
   "execution_count": 4,
   "id": "4257f12d-cf6d-4041-9453-f1ad6d21c7f8",
   "metadata": {},
   "outputs": [
    {
     "name": "stdout",
     "output_type": "stream",
     "text": [
      "0\n"
     ]
    }
   ],
   "source": [
    "list1=[1,2,3,4,[44,55,66,True],False,(34,56,78,89,34),{1,2,3,3,2,1},{1:34,\"key2\":[55,67,78,89],4:(45,33,61,34)},[56,'data science'],'Machine Learning']\n",
    "result = product_of_numbers(list1)\n",
    "print(result)                                                                     "
   ]
  },
  {
   "cell_type": "code",
   "execution_count": null,
   "id": "0145aeb2-4c3d-40aa-b4a5-954390271f5a",
   "metadata": {},
   "outputs": [],
   "source": [
    "ANS 2:"
   ]
  },
  {
   "cell_type": "code",
   "execution_count": 6,
   "id": "aab6e157-748c-40f5-bd13-c4118033f598",
   "metadata": {},
   "outputs": [
    {
     "name": "stdout",
     "output_type": "stream",
     "text": [
      "r dzmg gl yvxlnv z wzgz hxrvmgrhg.\n"
     ]
    }
   ],
   "source": [
    "def encrypt(message):\n",
    "    encrypted=\"\"\n",
    "    for char in message.lower():\n",
    "        if char.isalpha():\n",
    "            encrypted += chr(ord('a') + ord('z') - ord(char))\n",
    "        elif char == '':\n",
    "            encrypted += '$'\n",
    "        else:\n",
    "            encrypted += char\n",
    "    return encrypted.lower()\n",
    "message= \"I want to become a Data Scientist.\"\n",
    "encrypted_message=encrypt(message)\n",
    "print(encrypted_message)"
   ]
  },
  {
   "cell_type": "code",
   "execution_count": null,
   "id": "a15f004a-2bbf-4f2f-bb39-29d21ac703c3",
   "metadata": {},
   "outputs": [],
   "source": []
  }
 ],
 "metadata": {
  "kernelspec": {
   "display_name": "Python 3 (ipykernel)",
   "language": "python",
   "name": "python3"
  },
  "language_info": {
   "codemirror_mode": {
    "name": "ipython",
    "version": 3
   },
   "file_extension": ".py",
   "mimetype": "text/x-python",
   "name": "python",
   "nbconvert_exporter": "python",
   "pygments_lexer": "ipython3",
   "version": "3.10.8"
  }
 },
 "nbformat": 4,
 "nbformat_minor": 5
}

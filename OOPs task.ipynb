{
 "cells": [
  {
   "cell_type": "code",
   "execution_count": null,
   "id": "05d37668-3123-4d31-9b0f-933931277065",
   "metadata": {},
   "outputs": [],
   "source": [
    "ANS 1:"
   ]
  },
  {
   "cell_type": "code",
   "execution_count": 1,
   "id": "d0ef391b-3da1-4f34-b234-3ef16e64554b",
   "metadata": {},
   "outputs": [],
   "source": [
    "class Vehicle:\n",
    "    def __init__(self, name_of_vehicle, max_speed, average_of_vehicle):\n",
    "        self.name_of_vehicle = name_of_vehicle\n",
    "        self.max_speed = max_speed\n",
    "        self.average_of_vehicle = average_of_vehicle\n",
    "    def display_info(self):\n",
    "        return self.name_of_vehicle , self.max_speed,self.average_of_vehicle"
   ]
  },
  {
   "cell_type": "code",
   "execution_count": 2,
   "id": "d567e4d7-9889-42e2-aaa4-ccbc78b07999",
   "metadata": {},
   "outputs": [],
   "source": [
    "my_vehicle = Vehicle(\"Car\",200,30)"
   ]
  },
  {
   "cell_type": "code",
   "execution_count": 3,
   "id": "25499c82-447c-4492-a066-b7b1af0739fc",
   "metadata": {},
   "outputs": [
    {
     "data": {
      "text/plain": [
       "('Car', 200, 30)"
      ]
     },
     "execution_count": 3,
     "metadata": {},
     "output_type": "execute_result"
    }
   ],
   "source": [
    "my_vehicle.display_info()"
   ]
  },
  {
   "cell_type": "code",
   "execution_count": null,
   "id": "22bc1b50-c28f-4132-9c9c-bf2375e671a4",
   "metadata": {},
   "outputs": [],
   "source": [
    "ANS 2:"
   ]
  },
  {
   "cell_type": "code",
   "execution_count": 5,
   "id": "88ae2201-dd12-4fa4-89b5-b23ad2aac177",
   "metadata": {},
   "outputs": [],
   "source": [
    "class Car(Vehicle):\n",
    "    def __init__(self,name_of_vehicle,max_speed,average_of_vehicle):\n",
    "        super().__init__(name_of_vehicle,max_speed,average_of_vehicle)\n",
    "    def seating_capacity(self,capacity):\n",
    "        return f\"{self.name_of_vehicle} has a seating capacity of {capacity} passenger\""
   ]
  },
  {
   "cell_type": "code",
   "execution_count": 6,
   "id": "ba079f0d-2b93-4003-a4d4-ef44ea8a9298",
   "metadata": {},
   "outputs": [
    {
     "name": "stdout",
     "output_type": "stream",
     "text": [
      "Tesla Model 5 has a seating capacity of 5 passenger\n"
     ]
    }
   ],
   "source": [
    "car = Car(\"Tesla Model 5\",155,26)\n",
    "print(car.seating_capacity(5))"
   ]
  },
  {
   "cell_type": "code",
   "execution_count": null,
   "id": "a9b852fd-b00c-4a83-92e5-97c3384c3dbe",
   "metadata": {},
   "outputs": [],
   "source": [
    "ANS 3:"
   ]
  },
  {
   "cell_type": "code",
   "execution_count": null,
   "id": "0eb18a58-7ea5-491e-a548-2bc1ab1d1af9",
   "metadata": {},
   "outputs": [],
   "source": [
    "Multiple inheritance is a feature in object oriented programming where a subclass can inherit attributes and methods from \n",
    "multiple parent classes. "
   ]
  },
  {
   "cell_type": "code",
   "execution_count": 7,
   "id": "4394c8c0-1a2c-4a00-a94d-6956009c0ae3",
   "metadata": {},
   "outputs": [],
   "source": [
    "class A:\n",
    "    def method_a(self):\n",
    "        print(\"This is method A\")\n",
    "class B:\n",
    "    def method_b(self):\n",
    "        print(\"This is method B\")\n",
    "class C(A,B):\n",
    "    def method_c(self):\n",
    "        print(\"This is method C\")"
   ]
  },
  {
   "cell_type": "code",
   "execution_count": 8,
   "id": "1eb03028-bc3c-4e67-be09-f382db54446b",
   "metadata": {},
   "outputs": [
    {
     "name": "stdout",
     "output_type": "stream",
     "text": [
      "This is method A\n",
      "This is method B\n",
      "This is method C\n"
     ]
    }
   ],
   "source": [
    "obj_c = C()\n",
    "obj_c.method_a()\n",
    "obj_c.method_b()\n",
    "obj_c.method_c()"
   ]
  },
  {
   "cell_type": "code",
   "execution_count": null,
   "id": "a4c045f8-e731-4dc7-b941-e7f5cc6573c1",
   "metadata": {},
   "outputs": [],
   "source": [
    "ANS 4:"
   ]
  },
  {
   "cell_type": "code",
   "execution_count": null,
   "id": "a32b957c-7b82-442e-80f0-25e56e13023a",
   "metadata": {},
   "outputs": [],
   "source": [
    "Getters and setters are methods used to access and modify the values of class attributes. They provide a level of abstraction\n",
    "that helps to control access to the attribute and ensure that any modifications to it are done in a controlled manner.\n",
    "A getter method is used to retrieve the value of a private attribute, and setter method is used to modify the value of a\n",
    "private attribute."
   ]
  },
  {
   "cell_type": "code",
   "execution_count": 9,
   "id": "f75f6a25-f0a9-4c99-b1b2-e233cf4fb335",
   "metadata": {},
   "outputs": [],
   "source": [
    "class Person:\n",
    "    def __init__(self,name,age):\n",
    "        self._name = name\n",
    "        self._age = age\n",
    "    def get_name(self):\n",
    "        return self._name\n",
    "    def set_name(self,name):\n",
    "        self._name = name\n",
    "    def get_age(self):\n",
    "        return self._age\n",
    "    def set_age(self,age):\n",
    "        if age<0:\n",
    "            return \"Age cannot be negative\"\n",
    "        self._age = age"
   ]
  },
  {
   "cell_type": "code",
   "execution_count": 10,
   "id": "83320dfc-edd9-4e65-b6ea-d224c1c5899a",
   "metadata": {},
   "outputs": [
    {
     "name": "stdout",
     "output_type": "stream",
     "text": [
      "Taehyung\n"
     ]
    }
   ],
   "source": [
    "p = Person(\"Taehyung\",26)\n",
    "print(p.get_name())"
   ]
  },
  {
   "cell_type": "code",
   "execution_count": 11,
   "id": "3c9e59b7-9adf-4ead-914f-1ad23c419293",
   "metadata": {},
   "outputs": [],
   "source": [
    "p.set_name(\"Jungkook\")"
   ]
  },
  {
   "cell_type": "code",
   "execution_count": 12,
   "id": "c3434dd3-3158-492c-8dad-2cda652f149f",
   "metadata": {},
   "outputs": [
    {
     "data": {
      "text/plain": [
       "'Jungkook'"
      ]
     },
     "execution_count": 12,
     "metadata": {},
     "output_type": "execute_result"
    }
   ],
   "source": [
    "p.get_name()"
   ]
  },
  {
   "cell_type": "code",
   "execution_count": 13,
   "id": "a6e72819-fbb1-4954-ba88-d57930e71dd6",
   "metadata": {},
   "outputs": [
    {
     "data": {
      "text/plain": [
       "26"
      ]
     },
     "execution_count": 13,
     "metadata": {},
     "output_type": "execute_result"
    }
   ],
   "source": [
    "p.get_age()"
   ]
  },
  {
   "cell_type": "code",
   "execution_count": 14,
   "id": "93218337-f418-41af-ab26-5e114514da91",
   "metadata": {},
   "outputs": [],
   "source": [
    "p.set_age(24)"
   ]
  },
  {
   "cell_type": "code",
   "execution_count": 15,
   "id": "fa4a97c6-ccff-4d2a-9178-0ff459f5d58f",
   "metadata": {},
   "outputs": [
    {
     "data": {
      "text/plain": [
       "24"
      ]
     },
     "execution_count": 15,
     "metadata": {},
     "output_type": "execute_result"
    }
   ],
   "source": [
    "p.get_age()"
   ]
  },
  {
   "cell_type": "code",
   "execution_count": 16,
   "id": "1a5e33c0-2c85-4a01-ac5c-27da8eee9873",
   "metadata": {},
   "outputs": [
    {
     "data": {
      "text/plain": [
       "'Age cannot be negative'"
      ]
     },
     "execution_count": 16,
     "metadata": {},
     "output_type": "execute_result"
    }
   ],
   "source": [
    "p.set_age(-6)"
   ]
  },
  {
   "cell_type": "code",
   "execution_count": null,
   "id": "76e38a62-0ebb-4b4d-b60d-3ba0b5579156",
   "metadata": {},
   "outputs": [],
   "source": [
    "ANS 5:"
   ]
  },
  {
   "cell_type": "code",
   "execution_count": null,
   "id": "219a6564-0e09-4f19-a75f-a66c880a3388",
   "metadata": {},
   "outputs": [],
   "source": [
    "Method overriding is a feature in OOP where a subclass provides its own implementation of a method that is already defines in\n",
    "its parent class. The subclass overrides the implementataion of the parent class's method with its own implementation."
   ]
  },
  {
   "cell_type": "code",
   "execution_count": 17,
   "id": "dbb084ea-f635-4fcd-9507-3bb40244378f",
   "metadata": {},
   "outputs": [],
   "source": [
    "class Animal:\n",
    "    def make_sound(self):\n",
    "        return \"The animal makes a sound\"\n",
    "class Cat(Animal):\n",
    "    def make_sound(self):\n",
    "        return \"The cat says meow\"\n",
    "class Dog(Animal):\n",
    "    def make_sound(self):\n",
    "        return \"The dog says woof\""
   ]
  },
  {
   "cell_type": "code",
   "execution_count": 18,
   "id": "b3d644fd-ee78-48ef-9e37-6cd4a4e97b31",
   "metadata": {},
   "outputs": [],
   "source": [
    "animal = Animal()\n",
    "cat = Cat()\n",
    "dog = Dog()"
   ]
  },
  {
   "cell_type": "code",
   "execution_count": 19,
   "id": "38780c9f-f880-443e-ac9e-82f0bed861a8",
   "metadata": {},
   "outputs": [
    {
     "data": {
      "text/plain": [
       "'The animal makes a sound'"
      ]
     },
     "execution_count": 19,
     "metadata": {},
     "output_type": "execute_result"
    }
   ],
   "source": [
    "animal.make_sound()"
   ]
  },
  {
   "cell_type": "code",
   "execution_count": 20,
   "id": "f28469fd-0cae-4b3a-a929-811410e5835a",
   "metadata": {},
   "outputs": [
    {
     "data": {
      "text/plain": [
       "'The cat says meow'"
      ]
     },
     "execution_count": 20,
     "metadata": {},
     "output_type": "execute_result"
    }
   ],
   "source": [
    "cat.make_sound()"
   ]
  },
  {
   "cell_type": "code",
   "execution_count": 21,
   "id": "c6a3fa6a-62c2-4e1a-97e8-5555229551ed",
   "metadata": {},
   "outputs": [
    {
     "data": {
      "text/plain": [
       "'The dog says woof'"
      ]
     },
     "execution_count": 21,
     "metadata": {},
     "output_type": "execute_result"
    }
   ],
   "source": [
    "dog.make_sound()"
   ]
  },
  {
   "cell_type": "code",
   "execution_count": null,
   "id": "a28ff97b-e481-4e4f-801e-7559bd6e755c",
   "metadata": {},
   "outputs": [],
   "source": []
  }
 ],
 "metadata": {
  "kernelspec": {
   "display_name": "Python 3 (ipykernel)",
   "language": "python",
   "name": "python3"
  },
  "language_info": {
   "codemirror_mode": {
    "name": "ipython",
    "version": 3
   },
   "file_extension": ".py",
   "mimetype": "text/x-python",
   "name": "python",
   "nbconvert_exporter": "python",
   "pygments_lexer": "ipython3",
   "version": "3.10.8"
  }
 },
 "nbformat": 4,
 "nbformat_minor": 5
}

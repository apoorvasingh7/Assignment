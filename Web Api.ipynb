{
 "cells": [
  {
   "cell_type": "code",
   "execution_count": null,
   "id": "b92cc6fc-e8dd-44cf-8b0c-f2f966c7940a",
   "metadata": {},
   "outputs": [],
   "source": [
    "ANS 1: An API(Application Programming Interface) is a set of rules and protocols that allows different software\n",
    "applications to communicate and interact with each other. It defines the methods,data formats, and conventions that enable\n",
    "developers to access and use the functionalities of a particular software system or service.\n",
    "Example of how an API is used in real life:\n",
    "    Consider a weather application that provides current weather data to its users. The application itself doesn't \n",
    "    generate the weather information; instead, it relies on an extyernal weather service for the data. In this scenario, \n",
    "    the weather service exposes an API that allows the weather application to request weather data."
   ]
  },
  {
   "cell_type": "code",
   "execution_count": null,
   "id": "44d12be6-43cb-4c3f-a585-6f8ab6ec8424",
   "metadata": {},
   "outputs": [],
   "source": [
    "ANS 2: Adavantages of using API:\n",
    "    1. APIs promote code reusability by providing pre-built functions and services that developers can integrate into \n",
    "    their applications.\n",
    "    2.APIs allow for modular software development. By breaking down complex systems into smaller, interconnect components,\n",
    "    developers can enhance scalability and manageability.\n",
    "    3.APIs enable integration with third party services and platforms.\n",
    "    4.APIs accelerate the development process by providing pre built functionalities.\n",
    "    5.APIs provide a standardized interface that ensures compatibility between different software components.\n",
    "    \n",
    "Disadvantages of using APIs:\n",
    "    1. When applications rely heavily on external APIs, they become dependent on the availability and performance on those\n",
    "    of those services.\n",
    "    2.APIs may undergo updates and version changes, which can introduce compatibility issues for applications built using \n",
    "    older versions.\n",
    "    3.APIs can introduce security vulnerabilities if not implemented and secured properly.\n",
    "    4.When using external APIs, developers have limited control over the functionality,performance and reliability of \n",
    "    those services."
   ]
  },
  {
   "cell_type": "code",
   "execution_count": null,
   "id": "4d0f2b99-bc04-4cb9-91ab-02b61c41654f",
   "metadata": {},
   "outputs": [],
   "source": [
    "ANS 3: A Web API, also known as a web service or HTTP API, is an interface that allows applications to communicate and \n",
    "interact with each other over the internet using the HTTP protocol. It enables software systems to exchange data and\n",
    "functionality, making it possible to access and manipulate resources or perform actions or remote servers.\n",
    "While API is a broader term encompassing any interface for application communication, Web API specifically refers to APIs \n",
    "accessible over the web using HTTP protocols. Web APIs are commonly used for creating RESTful services, allowing clients to \n",
    "request and receive data in various formats,such as JSON or XML,over HTTP."
   ]
  },
  {
   "cell_type": "code",
   "execution_count": null,
   "id": "e1501494-c6c6-4d71-bdb8-3671de6dd151",
   "metadata": {},
   "outputs": [],
   "source": [
    "ANS 4: REST is an architectural style that is commonly used for designing networked applications.It is based on a set of \n",
    "principles and constraints that promote scalability,simplicity and loose coupling between the client and the server.In REST,\n",
    "resources are identified by unique URIs (Uniform Resource Identifiers), and interactions with these resources are performed \n",
    "using standard HTTP methods such as GET,POST,PUT and DELETE.\n",
    "SOAP is a protocol that enables communication between applications over a network.It defines a set of rules for structuring\n",
    "messages are typically transferred over HTTP,but they can also use other protocols sucha s SMTP or TCP.\n",
    "Some of the shortcomings of SOAP include:\n",
    "    1.SOAP messages tend to be more complex and require additional processing compared to RESTful messages,making it more \n",
    "    challenging to develop and maintain SOAP-based applications.\n",
    "    2.SOAP messages are usually larger in size due to their XML based structure,resulting in increased bandwidth consumption \n",
    "    and slower processing times compared to REST.\n",
    "    3.SOAP based services often require pre defined contracts and complex tooling,leading to tighter coupling between the \n",
    "    client and the server.This makes it harder to evolve and modify the services without affecting the clients.\n",
    "    4.SOAP services may not be compatible with certain network environments or firewalls that only allow HTTP traffic,\n",
    "    potentially limiting their deployment options."
   ]
  },
  {
   "cell_type": "code",
   "execution_count": null,
   "id": "c57571fc-9ed1-4176-a2ab-07d797000e5e",
   "metadata": {},
   "outputs": [],
   "source": [
    "ANS 5: 1. REST is a architectural style that primarily uses HTTP as the underlying protocol for communication.It relies on \n",
    "standards HTTP methods(GET,POST,PUT,DELETE) and utilizes the URL structure to interact with resources.On the other hand,SOAP is\n",
    "a protocol that can operate over a variety of protocols,including HTTP,SMTP, and TCP.\n",
    "2. REST typically uses lightweight data interchange format such as JSON or XML for representing data in requests and responses.\n",
    "SOAP,on the other hand uses XML as the message format.\n",
    "3.REST is stateless,meaning each request from a client to a server contains all the necessary information,and the server does \n",
    "not maintain any client-specific state between rquests.SOAP,however can maintain state between requests using session-based\n",
    "approaches."
   ]
  }
 ],
 "metadata": {
  "kernelspec": {
   "display_name": "Python 3 (ipykernel)",
   "language": "python",
   "name": "python3"
  },
  "language_info": {
   "codemirror_mode": {
    "name": "ipython",
    "version": 3
   },
   "file_extension": ".py",
   "mimetype": "text/x-python",
   "name": "python",
   "nbconvert_exporter": "python",
   "pygments_lexer": "ipython3",
   "version": "3.10.8"
  }
 },
 "nbformat": 4,
 "nbformat_minor": 5
}

{
 "cells": [
  {
   "cell_type": "code",
   "execution_count": null,
   "id": "46e246d5-e56c-4493-af50-3eefb6027a90",
   "metadata": {},
   "outputs": [],
   "source": [
    "ANS 1 : def keyword is use to create a function."
   ]
  },
  {
   "cell_type": "code",
   "execution_count": 3,
   "id": "3999b4c4-a3e2-4d29-92a0-b06b1d37f1b5",
   "metadata": {},
   "outputs": [],
   "source": [
    "def odd_numbers():\n",
    "    l=[]\n",
    "    for i in range(1,26):\n",
    "        if i%2 !=0:\n",
    "            l.append(i)\n",
    "    return l\n",
    "            \n",
    "    "
   ]
  },
  {
   "cell_type": "code",
   "execution_count": 4,
   "id": "948cf531-f80d-4cf7-b44a-3b1f4d9c8060",
   "metadata": {},
   "outputs": [
    {
     "data": {
      "text/plain": [
       "[1, 3, 5, 7, 9, 11, 13, 15, 17, 19, 21, 23, 25]"
      ]
     },
     "execution_count": 4,
     "metadata": {},
     "output_type": "execute_result"
    }
   ],
   "source": [
    "odd_numbers()"
   ]
  },
  {
   "cell_type": "code",
   "execution_count": null,
   "id": "28ebf22f-abdb-4421-a0b5-0ae8beafa071",
   "metadata": {},
   "outputs": [],
   "source": [
    "ANS 2 : *args is used to pass a variable number of arguments to a function.These arguments are collected into a tuple and can\n",
    "accesed using indexing or iteration.\n",
    "**kwargs is used to pass a variable number of keyword arguments to a function. These arguments are collected into a dictionary."
   ]
  },
  {
   "cell_type": "code",
   "execution_count": 8,
   "id": "68defba2-6402-4f26-9ce8-4d439d3073be",
   "metadata": {},
   "outputs": [
    {
     "name": "stdout",
     "output_type": "stream",
     "text": [
      "31\n"
     ]
    }
   ],
   "source": [
    "def sum(*args):\n",
    "    total=0\n",
    "    for i in args:\n",
    "        total+=i\n",
    "    return total\n",
    "result=sum(2,6,4,9,6,4)\n",
    "print(result)\n",
    "    "
   ]
  },
  {
   "cell_type": "code",
   "execution_count": 12,
   "id": "a0dc7be4-b985-4e9a-b0c8-2a653f2a4b43",
   "metadata": {},
   "outputs": [],
   "source": [
    "def details(**kwargs):\n",
    "    for key,value in kwargs.items():\n",
    "        print(\"{key}:{value}\")"
   ]
  },
  {
   "cell_type": "code",
   "execution_count": 14,
   "id": "cd0f3c9b-0ce7-4069-9dfc-fbb9952985f5",
   "metadata": {},
   "outputs": [
    {
     "name": "stdout",
     "output_type": "stream",
     "text": [
      "name:Taehyung\n",
      "age:26\n",
      "occupation:singer\n"
     ]
    }
   ],
   "source": [
    "details(name=\"Taehyung\",age=26,occupation=\"singer\")"
   ]
  },
  {
   "cell_type": "code",
   "execution_count": null,
   "id": "87047f49-f656-4744-8d7c-4ba66bac83c7",
   "metadata": {},
   "outputs": [],
   "source": [
    "ANS 3 : An iterator is an object that allows you to traverse a squence of values or elements.\n",
    "Method used to initialise the iterator object is iter() function, which takes a sequence as an argument and return an iterator\n",
    "object.The iterator object can then be used to iterate over the sequenceusing the next() method."
   ]
  },
  {
   "cell_type": "code",
   "execution_count": 15,
   "id": "158ce862-d8cb-48a6-bb58-57fa9f550b47",
   "metadata": {},
   "outputs": [
    {
     "name": "stdout",
     "output_type": "stream",
     "text": [
      "2\n",
      "4\n",
      "6\n",
      "8\n",
      "10\n"
     ]
    }
   ],
   "source": [
    "list=[2,4,6,8,10,12,14,16,18,20]\n",
    "iterator=iter(list)\n",
    "for i in range(5):\n",
    "    print(next(iterator))"
   ]
  },
  {
   "cell_type": "code",
   "execution_count": null,
   "id": "3503893e-c978-4c9a-bd8b-563f3ebd062c",
   "metadata": {},
   "outputs": [],
   "source": [
    "ANS 4 : A generator function is a special type of function that generates a sequence of values one at a time, rather than \n",
    "returning a singe value all at once.\n",
    "Generator functions are defined using the yeild keyword, which allows you to proceed a value and pause the function's execution\n",
    "until the next value is requested."
   ]
  },
  {
   "cell_type": "code",
   "execution_count": 16,
   "id": "2da916b6-4a2b-4f9d-883c-00b87e1a124f",
   "metadata": {},
   "outputs": [],
   "source": [
    "def generate(n):\n",
    "    count=1\n",
    "    while count<n:\n",
    "        yield count*2\n",
    "        count+=1"
   ]
  },
  {
   "cell_type": "code",
   "execution_count": 17,
   "id": "ae79893d-1dde-45b9-ad88-da8911db2c7b",
   "metadata": {},
   "outputs": [
    {
     "name": "stdout",
     "output_type": "stream",
     "text": [
      "2\n",
      "4\n",
      "6\n",
      "8\n",
      "10\n",
      "12\n",
      "14\n"
     ]
    }
   ],
   "source": [
    "for i in generate(8):\n",
    "    print(i)"
   ]
  },
  {
   "cell_type": "code",
   "execution_count": null,
   "id": "1608d40d-2677-4bcc-bbcc-53a0b5cf8611",
   "metadata": {},
   "outputs": [],
   "source": [
    "ANS 5: "
   ]
  },
  {
   "cell_type": "code",
   "execution_count": 3,
   "id": "0fa8a97e-0f35-4014-a45e-b712df7acddb",
   "metadata": {},
   "outputs": [],
   "source": [
    "def primes():\n",
    "    yield 2\n",
    "    num=3\n",
    "    while num <1000:\n",
    "        for i in range(2,num):\n",
    "            if num % i ==0:\n",
    "                break\n",
    "        else:\n",
    "            yield num\n",
    "        num+=1"
   ]
  },
  {
   "cell_type": "code",
   "execution_count": 4,
   "id": "905b8c53-8815-4735-9f2e-8f16fd7328f4",
   "metadata": {},
   "outputs": [
    {
     "name": "stdout",
     "output_type": "stream",
     "text": [
      "2\n",
      "3\n",
      "5\n",
      "7\n",
      "11\n",
      "13\n",
      "17\n",
      "19\n",
      "23\n",
      "29\n",
      "31\n",
      "37\n",
      "41\n",
      "43\n",
      "47\n",
      "53\n",
      "59\n",
      "61\n",
      "67\n",
      "71\n"
     ]
    }
   ],
   "source": [
    "generator=primes()\n",
    "for i in range(20):\n",
    "    print(next(generator))"
   ]
  },
  {
   "cell_type": "code",
   "execution_count": null,
   "id": "64cce11a-30c9-4528-b3da-edfd62cc4aca",
   "metadata": {},
   "outputs": [],
   "source": [
    "ANS 6:"
   ]
  },
  {
   "cell_type": "code",
   "execution_count": 3,
   "id": "176c024f-6680-48e4-86b2-9a7d5472b8d7",
   "metadata": {},
   "outputs": [
    {
     "name": "stdout",
     "output_type": "stream",
     "text": [
      "0\n",
      "1\n",
      "1\n",
      "2\n",
      "3\n",
      "5\n",
      "8\n",
      "13\n",
      "21\n",
      "34\n"
     ]
    }
   ],
   "source": [
    "num1,num2=0,1\n",
    "count=0\n",
    "while count<10:\n",
    "    print(num1)\n",
    "    nth=num1+num2\n",
    "    num1=num2\n",
    "    num2=nth\n",
    "    count+=1"
   ]
  },
  {
   "cell_type": "code",
   "execution_count": null,
   "id": "a3c2d4ea-6145-4285-ab96-cd55a0b40f1a",
   "metadata": {},
   "outputs": [],
   "source": [
    "ANS 7:"
   ]
  },
  {
   "cell_type": "code",
   "execution_count": 5,
   "id": "8aa45cf8-22ce-4b44-bd8d-9ceceae42618",
   "metadata": {},
   "outputs": [
    {
     "name": "stdout",
     "output_type": "stream",
     "text": [
      "['p', 'w', 's', 'k', 'i', 'l', 'l', 's']\n"
     ]
    }
   ],
   "source": [
    "string = \"pwskills\"\n",
    "char_list=[char for char in string]\n",
    "print(char_list)"
   ]
  },
  {
   "cell_type": "code",
   "execution_count": null,
   "id": "d6e38095-5477-448d-885c-f38df5892c8a",
   "metadata": {},
   "outputs": [],
   "source": [
    "ANS 8:"
   ]
  },
  {
   "cell_type": "code",
   "execution_count": 5,
   "id": "94e17383-1391-4fbe-ab0e-cdb0f4a98689",
   "metadata": {},
   "outputs": [
    {
     "name": "stdin",
     "output_type": "stream",
     "text": [
      "enter a number 67\n"
     ]
    },
    {
     "name": "stdout",
     "output_type": "stream",
     "text": [
      "67 is not a palindrome\n"
     ]
    }
   ],
   "source": [
    "num = int(input(\"enter a number\"))\n",
    "temp=num\n",
    "reverse_num = 0\n",
    "while num > 0:\n",
    "    remainder = num % 10 \n",
    "    reverse_num = reverse_num *10 + remainder\n",
    "    num = num // 10\n",
    "if temp == reverse_num:\n",
    "    print(temp,\"is a palindrome\")\n",
    "else:\n",
    "    print(temp,\"is not a palindrome\")"
   ]
  },
  {
   "cell_type": "code",
   "execution_count": null,
   "id": "9ee1d32a-cd17-4ab3-98f1-c2f52228d79d",
   "metadata": {},
   "outputs": [],
   "source": [
    "ANS 9 :"
   ]
  },
  {
   "cell_type": "code",
   "execution_count": null,
   "id": "1203c75a-f013-4a3e-8feb-f48097c9e998",
   "metadata": {},
   "outputs": [],
   "source": [
    "odd_numbers=[num for num in range (1,101"
   ]
  },
  {
   "cell_type": "code",
   "execution_count": null,
   "id": "12ca579e-83a6-4967-a174-60e7f3c5a008",
   "metadata": {},
   "outputs": [],
   "source": []
  }
 ],
 "metadata": {
  "kernelspec": {
   "display_name": "Python 3 (ipykernel)",
   "language": "python",
   "name": "python3"
  },
  "language_info": {
   "codemirror_mode": {
    "name": "ipython",
    "version": 3
   },
   "file_extension": ".py",
   "mimetype": "text/x-python",
   "name": "python",
   "nbconvert_exporter": "python",
   "pygments_lexer": "ipython3",
   "version": "3.10.8"
  }
 },
 "nbformat": 4,
 "nbformat_minor": 5
}

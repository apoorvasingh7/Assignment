{
 "cells": [
  {
   "cell_type": "code",
   "execution_count": null,
   "id": "53b3bf8b-c098-4094-a449-c27091829411",
   "metadata": {},
   "outputs": [],
   "source": [
    "Ans 1 - Guido van Rossum\n",
    "Ans 2 - Python is an interpreted programming language, which support object oriented, structured and functional programming.\n",
    "Ans 3 - Yes, Python is a case sensitive when dealing with identifiers.\n",
    "Ans 4 - The correct file extension for a python file is .py\n",
    "Ans 5 - Python is an interpreted language\n",
    "Ans 6 - Functions and loops are the blocks of code\n",
    "Ans 7 - A character used to give sinle line comments in python is hash(#) symbol\n",
    "Ans 8 - 1. sys.version  2. platform.python_version\n",
    "Ans 9 - lambda\n",
    "Ans 10 - Pip Installs Packages \n",
    "Ans 11 - print() , len() , range() , sum() , sorted() , int() , float()\n",
    "Ans 12 - In python, the lenght of an identifier is limited only by the amount of memory available on system.\n",
    "         The python style gate, PEP 8, recomends using descriptive names, with a maximum length of 79 characters for variables \n",
    "        and function names, and a maximum length of 50 characters for class names. These are guidelines, not strict rules, and \n",
    "         we may use longer names if we find it appropriate for our project. However, using descriptive names that are easy to \n",
    "         understant and follow these guidelines is a good practice that makes code more readable and maintainable.\n",
    "Ans 13 - Easy to learn\n",
    "         Versatile\n",
    "         Large community\n",
    "         Plenty of libraries\n",
    "         Interoperable\n",
    "         Good for prototyping\n",
    "         Readable and maintainable code\n",
    "Ans 14 - In python, memory management is handled automatically by the python memory manager,which is a part of python \n",
    "         interpreter\n",
    "Ans 15 - To install python on windows follow this steps:\n",
    "        1. Download the latest vrsion of the python from the official python webside.Choose the windows installer for your \n",
    "    version of windows.\n",
    "    2. Run the installer by doube clicking the downloaded file.\n",
    "    3. Follow the on screen instructions to install python.\n",
    "    4. To set the path variables, you will need to add the location of the python executable to your system's PATH environment \n",
    "      varaible.\n",
    "Ans 16 - Yes, indentation is required in python.\n",
    "    \n"
   ]
  }
 ],
 "metadata": {
  "kernelspec": {
   "display_name": "Python 3 (ipykernel)",
   "language": "python",
   "name": "python3"
  },
  "language_info": {
   "codemirror_mode": {
    "name": "ipython",
    "version": 3
   },
   "file_extension": ".py",
   "mimetype": "text/x-python",
   "name": "python",
   "nbconvert_exporter": "python",
   "pygments_lexer": "ipython3",
   "version": "3.10.8"
  }
 },
 "nbformat": 4,
 "nbformat_minor": 5
}

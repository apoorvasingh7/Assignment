{
 "cells": [
  {
   "cell_type": "code",
   "execution_count": 1,
   "id": "14fcf889-4ae4-4354-b681-957474082038",
   "metadata": {},
   "outputs": [
    {
     "name": "stdin",
     "output_type": "stream",
     "text": [
      "enter the percentage obtained 45\n"
     ]
    },
    {
     "name": "stdout",
     "output_type": "stream",
     "text": [
      "Grade D\n"
     ]
    }
   ],
   "source": [
    "per=int(input(\"enter the percentage obtained\"))\n",
    "if per > 90:\n",
    "    print(\"Grade A\")\n",
    "elif per > 80 and per <= 90:\n",
    "    print(\"Grade B\")\n",
    "elif per >= 60 and per <=80:\n",
    "    print(\"Grade C\")\n",
    "else:\n",
    "    print(\"Grade D\")\n",
    "    \n",
    "    "
   ]
  },
  {
   "cell_type": "code",
   "execution_count": null,
   "id": "b3159813-0db6-48ff-b8dc-665213145762",
   "metadata": {},
   "outputs": [],
   "source": [
    "ANS 2"
   ]
  },
  {
   "cell_type": "code",
   "execution_count": 5,
   "id": "2696d336-1b8b-4261-a389-f96a092ab7ae",
   "metadata": {},
   "outputs": [
    {
     "name": "stdin",
     "output_type": "stream",
     "text": [
      "Enter the cost price of thr bike in Rs. 760497873\n"
     ]
    },
    {
     "name": "stdout",
     "output_type": "stream",
     "text": [
      "Tax = 15%\n"
     ]
    }
   ],
   "source": [
    "cp = int(input(\"Enter the cost price of thr bike in Rs.\"))\n",
    "if cp > 100000:\n",
    "    ptint(\"Tax = 15%\")\n",
    "elif cp > 50000 and cp <= 100000:\n",
    "    print(\"Tax = 10%\")\n",
    "else:\n",
    "    print(\"Tax = 5%\")"
   ]
  },
  {
   "cell_type": "code",
   "execution_count": null,
   "id": "ca0a0413-e371-4c6a-81cf-28ae0a2bd3fb",
   "metadata": {},
   "outputs": [],
   "source": [
    "ANS 3"
   ]
  },
  {
   "cell_type": "code",
   "execution_count": 3,
   "id": "40a797c1-9e0c-4c4b-a15c-a6623e71bac0",
   "metadata": {},
   "outputs": [
    {
     "name": "stdin",
     "output_type": "stream",
     "text": [
      "Enter city name Delhi\n"
     ]
    },
    {
     "name": "stdout",
     "output_type": "stream",
     "text": [
      "Monument is Red fort\n"
     ]
    }
   ],
   "source": [
    "city = input(\"Enter city name\")\n",
    "if city == 'Delhi':\n",
    "    print(\"Monument is Red fort\")\n",
    "elif city == 'Agra':\n",
    "    print(\"Monument is Taj Mahal\")\n",
    "elif city == 'Jaipur':\n",
    "    print(\"Monument is Jal Mahal\")\n",
    "else:\n",
    "    print(\"Don't have data\")"
   ]
  },
  {
   "cell_type": "code",
   "execution_count": null,
   "id": "66a6902f-685d-4b43-b253-683df33b8e1b",
   "metadata": {},
   "outputs": [],
   "source": [
    "ANS 4"
   ]
  },
  {
   "cell_type": "code",
   "execution_count": 1,
   "id": "269ebdad-29a4-401f-914e-a69f33e3f33b",
   "metadata": {},
   "outputs": [],
   "source": [
    "def count_divisibility_by_3(num):\n",
    "    count=0\n",
    "    while num > 10:\n",
    "        num = num/3\n",
    "        count= count + 1\n",
    "    return count"
   ]
  },
  {
   "cell_type": "code",
   "execution_count": 2,
   "id": "1c5510af-302a-4f7c-ac1a-5453687b8bab",
   "metadata": {},
   "outputs": [
    {
     "data": {
      "text/plain": [
       "2"
      ]
     },
     "execution_count": 2,
     "metadata": {},
     "output_type": "execute_result"
    }
   ],
   "source": [
    "count_divisibility_by_3(81)"
   ]
  },
  {
   "cell_type": "code",
   "execution_count": null,
   "id": "576ddfd5-9dbd-452c-aff2-412e9d8db632",
   "metadata": {},
   "outputs": [],
   "source": [
    "ANS 5 - While loop is used when a block of code is need to execute repeatedly until the specific condition is met. Example-"
   ]
  },
  {
   "cell_type": "code",
   "execution_count": 2,
   "id": "65126947-077a-4604-90ca-8a7a0b4de79a",
   "metadata": {},
   "outputs": [
    {
     "data": {
      "text/plain": [
       "10"
      ]
     },
     "execution_count": 2,
     "metadata": {},
     "output_type": "execute_result"
    }
   ],
   "source": [
    "num = 1\n",
    "while num < 10 :\n",
    "    num = num +1\n",
    "num"
   ]
  },
  {
   "cell_type": "code",
   "execution_count": null,
   "id": "32ec343e-154f-4853-b2e2-5af8ccce9999",
   "metadata": {},
   "outputs": [],
   "source": [
    "ANS 6 "
   ]
  },
  {
   "cell_type": "code",
   "execution_count": 1,
   "id": "57ade814-9be8-4530-8719-b8b480e478d4",
   "metadata": {},
   "outputs": [
    {
     "name": "stdout",
     "output_type": "stream",
     "text": [
      "*****\n",
      "*****\n",
      "*****\n",
      "*****\n",
      "*****\n"
     ]
    }
   ],
   "source": [
    "i = 0\n",
    "while i < 5:\n",
    "    j = 0\n",
    "    while j < 5:\n",
    "        print(\"*\", end=\"\")\n",
    "        j += 1\n",
    "    print()\n",
    "    i += 1\n"
   ]
  },
  {
   "cell_type": "code",
   "execution_count": 2,
   "id": "bfc4a883-580f-48d6-bf2f-d66635b71d5f",
   "metadata": {},
   "outputs": [
    {
     "name": "stdout",
     "output_type": "stream",
     "text": [
      "\n",
      "*\n",
      "**\n",
      "***\n",
      "****\n"
     ]
    }
   ],
   "source": [
    "i=0\n",
    "while i < 5:\n",
    "    j=0\n",
    "    while j < i:\n",
    "        print(\"*\",end=\"\")\n",
    "        j +=1\n",
    "    print()\n",
    "    i+=1"
   ]
  },
  {
   "cell_type": "code",
   "execution_count": 2,
   "id": "53ccdd64-8cc0-47a5-ae46-86e439611df0",
   "metadata": {},
   "outputs": [
    {
     "name": "stdout",
     "output_type": "stream",
     "text": [
      "*****\n",
      "****\n",
      "***\n",
      "**\n",
      "*\n"
     ]
    }
   ],
   "source": [
    "i=5\n",
    "while i >=1:\n",
    "    j=1\n",
    "    while j <=i:\n",
    "        print(\"*\",end=\"\")\n",
    "        j+=1\n",
    "    print()\n",
    "    i-=1"
   ]
  },
  {
   "cell_type": "code",
   "execution_count": null,
   "id": "cc53f62d-6a56-44b0-bd87-492857d4a291",
   "metadata": {},
   "outputs": [],
   "source": [
    "ANS 7"
   ]
  },
  {
   "cell_type": "code",
   "execution_count": 3,
   "id": "c6b3458f-d819-4596-a45c-3aee44309955",
   "metadata": {},
   "outputs": [
    {
     "name": "stdout",
     "output_type": "stream",
     "text": [
      "10\n",
      "9\n",
      "8\n",
      "7\n",
      "6\n",
      "5\n",
      "4\n",
      "3\n",
      "2\n",
      "1\n"
     ]
    }
   ],
   "source": [
    "i=10\n",
    "while i>0:\n",
    "    print(i)\n",
    "    i-=1"
   ]
  },
  {
   "cell_type": "code",
   "execution_count": null,
   "id": "df67f6a6-1b1a-4c7c-8eed-770acf909c5b",
   "metadata": {},
   "outputs": [],
   "source": []
  }
 ],
 "metadata": {
  "kernelspec": {
   "display_name": "Python 3 (ipykernel)",
   "language": "python",
   "name": "python3"
  },
  "language_info": {
   "codemirror_mode": {
    "name": "ipython",
    "version": 3
   },
   "file_extension": ".py",
   "mimetype": "text/x-python",
   "name": "python",
   "nbconvert_exporter": "python",
   "pygments_lexer": "ipython3",
   "version": "3.10.8"
  }
 },
 "nbformat": 4,
 "nbformat_minor": 5
}

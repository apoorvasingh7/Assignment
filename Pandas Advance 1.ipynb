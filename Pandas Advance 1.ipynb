{
 "cells": [
  {
   "cell_type": "code",
   "execution_count": null,
   "id": "712ef245-7042-4e8b-8c64-db40a77b141a",
   "metadata": {},
   "outputs": [],
   "source": [
    "ANS 1: 1.'read_csv': This function is used to read data from a CSV file and create a DataFrame.\n",
    "\n",
    "import panda as pd\n",
    "df = pd.read_csv('data.csv')\n",
    "print(df.head())\n",
    "\n",
    "2.'describe': This function provides descriptive statistics of the DataFrame, such as count, mean, standard deviation, minimum,\n",
    "maximum, and quartiles. \n",
    "\n",
    "import pandas as pd\n",
    "df = pd.DataFrame({'Age':[23,45,36,53,13,24]})\n",
    "print(df.describe())\n",
    "\n",
    "3.'unique': This function is used to extract the unique values from a column of a DataFrame or a Series.\n",
    "\n",
    "import pandas as pd\n",
    "df = pd.DataFrame({'Name':['Nancy','Nidhi','Honey','Varsha','Himanshi']})\n",
    "unique_data = df['Name'].unique()\n",
    "print(unique_data)\n",
    "\n",
    "4.'loc': The loc function is used to access rows and columns in a DataFrame by label-based indexing. It accepts row and column\n",
    "labels as input.\n",
    "\n",
    "import pandas as pd\n",
    "df = pd.DataFrame({'Name':['Nancy','Nidhi','Honey','Varsha','Himanshi'],\n",
    "                   'Age':[23,45,13,25,27],\n",
    "                   'City':['Varanasi','Mumbai','Delhi','Noida','Chennai']})\n",
    "value = data.loc[1,'Age']\n",
    "print(value)\n",
    "\n",
    "5.'iloc': The iloc function is used to access rows and columns in a DataFrame by integer-based indexing. It accepts integer \n",
    "positions as input.\n",
    "\n",
    "import pandas as pd\n",
    "df = pd.DataFrame({'Name':['Nancy','Nidhi','Honey','Varsha','Himanshi'],\n",
    "                   'Age':[23,45,13,25,27],\n",
    "                   'City':['Varanasi','Mumbai','Delhi','Noida','Chennai']})\n",
    "value = data.loc[1,2]\n",
    "print(value)"
   ]
  },
  {
   "cell_type": "code",
   "execution_count": null,
   "id": "2293f60d-9c29-4119-8781-71c3684715e1",
   "metadata": {},
   "outputs": [],
   "source": [
    "ANS 2: \n",
    "\n",
    "import pandas as pd\n",
    "\n",
    "def reindex_into_increment(df):\n",
    "    new_index=pd.Index(range(1,len(df)*2+1,2))\n",
    "    new_df=df.set_index(new_index)\n",
    "    return new_df\n",
    "\n",
    "new_df=reindex_into_increment(df)\n",
    "print(new_df)"
   ]
  },
  {
   "cell_type": "code",
   "execution_count": null,
   "id": "1b696a52-4ffb-4b1f-b2a1-e5f046246058",
   "metadata": {},
   "outputs": [],
   "source": [
    "ANS 3: \n",
    "    \n",
    "import pandas as pd\n",
    "def sum_first_three(df):\n",
    "    values = df['Values']\n",
    "    first_three_values = values[:3]\n",
    "    sum_of_first_three = first_three_values.sum()\n",
    "    print(\"Sum of first three values:\",sum_of_first_three)\n",
    "    \n",
    "sum_first_three(df)"
   ]
  },
  {
   "cell_type": "code",
   "execution_count": null,
   "id": "2549a3c4-defe-4863-80d7-8ede78ce99e3",
   "metadata": {},
   "outputs": [],
   "source": [
    "ANS 4: \n",
    "    \n",
    "import pandas as pd\n",
    "def add_word_count(df):\n",
    "    df['Word_Count']=df['Text'].apply(lambda x: len(str(x).split()))\n",
    "    return df"
   ]
  },
  {
   "cell_type": "code",
   "execution_count": null,
   "id": "c1f4c0b1-9bae-4928-b012-7e7fc0413379",
   "metadata": {},
   "outputs": [],
   "source": [
    "ANS 5: DataFrame.size: The size attribute of a DataFrame returns the total number of elements in the DataFrame, which is \n",
    "calculated by multiplying the number of rows (DataFrame.shape[0]) by the number of columns (DataFrame.shape[1]). In other \n",
    "words, DataFrame.size gives you the total number of cells or values in the DataFrame.\n",
    "DataFrame.shape: The shape attribute of a DataFrame returns a tuple representing the dimensions of the DataFrame. It provides\n",
    "two values: the number of rows and the number of columns, respectively. It is accessed using DataFrame.shape, and the result\n",
    "is a tuple (num_rows, num_columns)."
   ]
  },
  {
   "cell_type": "code",
   "execution_count": null,
   "id": "535940c4-f242-4a24-817f-862b9a592140",
   "metadata": {},
   "outputs": [],
   "source": [
    "ANS 6: To read an Excel file in Pandas, we can use the read_excel() function."
   ]
  },
  {
   "cell_type": "code",
   "execution_count": null,
   "id": "baeb19d8-2f6e-4727-8e1a-a1b125e95d29",
   "metadata": {},
   "outputs": [],
   "source": [
    "ANS 7:\n",
    "    \n",
    "import pandas as pd\n",
    "def extract_username(df):\n",
    "    df['Username'] = df['Email'].apply(lambda x: x.split('@')[0])\n",
    "    return df\n",
    "\n",
    "data = {'Email' : ['john.doe@example.com']}\n",
    "df = pd.DataFrame(data)\n",
    "df = extract_username\n",
    "print(df)"
   ]
  },
  {
   "cell_type": "code",
   "execution_count": null,
   "id": "90be0618-f4ee-4dae-8055-e7e75c3f7cc7",
   "metadata": {},
   "outputs": [],
   "source": [
    "ANS 8: \n",
    "    \n",
    "import pandas as pd\n",
    "def filtered_data(df):\n",
    "    selected_rows = df[(df['A']>5) & (df['B']<10)]\n",
    "    return selected_rows"
   ]
  },
  {
   "cell_type": "code",
   "execution_count": null,
   "id": "ad5276d2-556b-42f9-b82f-840e60143276",
   "metadata": {},
   "outputs": [],
   "source": [
    "ANS 9: \n",
    "    \n",
    "import pandas as pd\n",
    "import numpy as np\n",
    "def calculate_statistics(df):\n",
    "    values = df['Values']\n",
    "    mean = np.mean(values)\n",
    "    median = np.median(values)\n",
    "    std_dev = np.std(values)\n",
    "    return mean,median,std_dev"
   ]
  },
  {
   "cell_type": "code",
   "execution_count": null,
   "id": "b0d48441-9d37-4b86-8ca6-278ed409652f",
   "metadata": {},
   "outputs": [],
   "source": [
    "ANS 10: \n",
    "    \n",
    "import pandas as pd\n",
    "def calculate_moving_average(df):\n",
    "    df['MovingAverage'] = df['Sales'].rolling(window=7, min_periods=1).mean()\n",
    "    return df\n",
    "data = {'Sales':[10,12,14,15,17,18,13,8,9,19],\n",
    "        'Date':['2023-07-01','2023-07-02','2023-07-03','2023-07-04','2023-07-05','2023-07-06','2023-07-07','2023-07-08','2023-07-09','2023-07-10']}\n",
    "df = pd.DataFrame(data)\n",
    "df=calculate_moving_average\n",
    "print(df)"
   ]
  },
  {
   "cell_type": "code",
   "execution_count": null,
   "id": "bbe5c283-f72b-4b82-9424-c380a9bc5ba6",
   "metadata": {},
   "outputs": [],
   "source": [
    "ANS 11: \n",
    "    \n",
    "import pandas as pd\n",
    "def add_weekdays_columns(df):\n",
    "    df['Weekday'] = df['Date'].dt.strftime('%A')\n",
    "    return df"
   ]
  },
  {
   "cell_type": "code",
   "execution_count": null,
   "id": "8e0b85d7-6748-4b12-a2a6-f9b66370b649",
   "metadata": {},
   "outputs": [],
   "source": [
    "ANS 12: \n",
    "    \n",
    "import pandas as pd\n",
    "def select_rows_in_date_reange(df):\n",
    "    start_date = '2023-01-01'\n",
    "    end_date = '2023-01-31'\n",
    "    mask = (df['Date'].dt.date >= start_date) & (df['Date'].dt.date <= end_date)\n",
    "    selected_rows = df[mask]\n",
    "    return selected_rows"
   ]
  },
  {
   "cell_type": "code",
   "execution_count": null,
   "id": "c6e808e2-6868-42bf-a2ca-cca6543780ad",
   "metadata": {},
   "outputs": [],
   "source": [
    "ANS 13: To use the basic functions of pandas, the first and foremost library that needs to be imported is the pandas library \n",
    "itself. We can import it using the following line of code:\n",
    "    \n",
    "import pandas as pd \n",
    "\n",
    "By convention, pandas is commonly imported using the alias \"pd\" to make it easier to reference the library's functions and\n",
    "objects throughout code."
   ]
  }
 ],
 "metadata": {
  "kernelspec": {
   "display_name": "Python 3 (ipykernel)",
   "language": "python",
   "name": "python3"
  },
  "language_info": {
   "codemirror_mode": {
    "name": "ipython",
    "version": 3
   },
   "file_extension": ".py",
   "mimetype": "text/x-python",
   "name": "python",
   "nbconvert_exporter": "python",
   "pygments_lexer": "ipython3",
   "version": "3.10.8"
  }
 },
 "nbformat": 4,
 "nbformat_minor": 5
}

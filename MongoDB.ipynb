{
 "cells": [
  {
   "cell_type": "code",
   "execution_count": null,
   "id": "850f2899-3869-4fb2-9bc6-31dfecebde13",
   "metadata": {},
   "outputs": [],
   "source": [
    "ANS 1: MongoDB is a popular NoSQL database system that is designed to store and manage unstructured and semi-structured\n",
    "data. \n",
    "Non-relational databases, such as MongoDB, provide a flexible and scalable approach to data storage. They are well suited\n",
    "for handling large volumes of rapidly changing data, as they do not enfore rigid schemas and allow for dynamic and ad-hoc \n",
    "modifications to the data structure. This flexibility makes it easier to handle evolving requirements and accomodate data \n",
    "that doesn't fit neatly into the fixed schema.\n",
    "In scenarios where the data is complex,unstructured, or has varying attributes, mongoDB can be preferred choice. It excels\n",
    "in use cases such as content management systems, real-time analytics,social media platforms,IoT applications, and \n",
    "situations where scalability and high perfprmance are crucial."
   ]
  },
  {
   "cell_type": "code",
   "execution_count": null,
   "id": "e01ff85b-a130-46a0-b670-fb9ebe4ea9d9",
   "metadata": {},
   "outputs": [],
   "source": [
    "ANS 2: Features of MongoDB are:\n",
    "    1. Document-Oriented: MongoDB is a document oriented database, which means it stores data in flexible and self\n",
    "    describing JSON-like documents called BSON. \n",
    "    2. No schema constraints: MongoDB does not enforce rigid schemas. It allows for dynamic modifications to the data \n",
    "    structure, making it easier to handle evolving requirements and accommodate data that doesn't fit nearly into a fixed\n",
    "    schema.\n",
    "    3. High availability and replication: MongoDB provides built-in replicatiion features that allow for automatic data \n",
    "    replication across multiple servers. It supports replica sets, which are self-healing clusters that provide data \n",
    "    redundancy, fault tolerance and automatic failover in case of server failures.\n",
    "    4.Indexing and quering: MongoDB support indexing on fields within documents, which improve query performance. It \n",
    "    offers a flexible query language with a rich set of operators and functions to perform complex queries, sortig and \n",
    "    aggregation.\n",
    "    5.Rich ecosystem and community: MongoDB has a thriving and active communnity with extensive documentation,tutorials\n",
    "    and resources. It also offers a rich ecosystem of tools, libraries and frameworks that integrate well with MongoDB, \n",
    "    making it easier to work with and extend its functionality."
   ]
  },
  {
   "cell_type": "code",
   "execution_count": null,
   "id": "562de171-769b-4c73-bf79-9390fe79a2c4",
   "metadata": {},
   "outputs": [],
   "source": [
    "ANS 3: \n",
    "    \n",
    "from pymongo import MongoClient\n",
    "\n",
    "client = MongoClient(\"mongodb://localhost:27017\")\n",
    "database=client[\"mydatabase\"]\n",
    "collection=database[\"mycollection\"]\n",
    "document={\"name\":\"John\",\"age\":30}\n",
    "collection.insert_one(document)\n",
    "documents=collection.find()\n",
    "for d in documents:\n",
    "    print(d)\n",
    "client.close()"
   ]
  },
  {
   "cell_type": "code",
   "execution_count": null,
   "id": "c8f49aa1-4e26-45e6-9e3a-f6f0f3155d4c",
   "metadata": {},
   "outputs": [],
   "source": [
    "ANS 4: \n",
    "    \n",
    "from pymongo import MongoClient\n",
    "client = MongoClient(\"mongodb://localhost:27017\")\n",
    "database=client[\"mydatabase\"]\n",
    "collection=database[\"mycollection\"]\n",
    "document={\"name\":\"Alice\",\"age\":25}\n",
    "inserted_one=collection.inserted_one(document)\n",
    "print(\"inserted document ID:\",inserted_one.inserted_id)\n",
    "documents=[\n",
    "    {\"name\":\"Kirty\",\"age\":24},\n",
    "    {\"name\":\"Vanshika\",\"age\":25},\n",
    "    {\"name\":\"Abhishek\",\"age\":23}\n",
    "]\n",
    "inserted_many=collection.inserted_many(documents)\n",
    "print(\"Inserted document ID:\",inserted_many.inserted_ids)\n",
    "one_record=collection.find_one()\n",
    "print(one_record)\n",
    "all_records=collection.find()\n",
    "print(\"Found all records:\")\n",
    "for r in records:\n",
    "    print(record)\n",
    "client.close()"
   ]
  },
  {
   "cell_type": "code",
   "execution_count": null,
   "id": "59defda5-a0fb-483c-9696-630aca65a1e8",
   "metadata": {},
   "outputs": [],
   "source": [
    "ANS 5: In MongoDB, the find() method is used to query the database and retrieve documents that match specified criteria. \n",
    "It allows you to perform various types of queries by specifying filters,projections,sorting and other options.\n",
    "\n",
    "from pymongo import MongoClient\n",
    "\n",
    "client = MongoClient(\"mongodb://localhost:27017\")\n",
    "database=client[\"mydatabase\"]\n",
    "collection=database[\"mycollection\"]\n",
    "all_documents=collection.find()\n",
    "for d in all_documents:\n",
    "    print(d)\n",
    "query={\"age\":{\"$gt\":30}}\n",
    "matching_documents=collection.find(query)\n",
    "for d in matching_documents:\n",
    "    print(d)\n",
    "client.close()\n"
   ]
  },
  {
   "cell_type": "code",
   "execution_count": null,
   "id": "0386f0d3-17cf-4e84-aef0-699c5539bc49",
   "metadata": {},
   "outputs": [],
   "source": [
    "ANS 6: The sort() method is used to sort the documents returned by a query in a specified order. it allows you to sort \n",
    "documents based on one or more fields, in ascending or descending order.\n",
    "The sort() method takes a document as its argument, where each field represents a sorting criteria and its corresponding\n",
    "value indicates the sorting order. The field-value pairs can be specified using the field name as the key and either 1 or\n",
    "-1 as the value. A value of 1 indicates ascending order, while -1 indicates descending order.\n",
    "\n",
    "from pymongo import MongoClient\n",
    "\n",
    "client = MongoClient(\"mongodb://localhost:27017\")\n",
    "database=client[\"mydatabase\"]\n",
    "collection=database[\"mycollection\"]\n",
    "query={\"age\":{\"$gt\":25}}\n",
    "sort_criteria=[(\"age\",1),(\"name\":-1)]\n",
    "sorted_documents=collection.find(query).sort(sort_criteria)\n",
    "for d in sorted_documents:\n",
    "    print(d)\n",
    "client.close()"
   ]
  },
  {
   "cell_type": "code",
   "execution_count": null,
   "id": "ca06d35f-1468-4dfb-8224-09afabc440bc",
   "metadata": {},
   "outputs": [],
   "source": [
    "ANS 7: The 'delete_one()' method is used to dalete a single document that matches a specified filter from a collection. It \n",
    "takes a filter as an argument, which specifies the criteria for selecting the document to delete. If multiple documents match \n",
    "the filter, only the first document encountered will be deleted.\n",
    "The 'delete_many()' method is used to delete multiple documents that match a specified filter from a collection. It also takes \n",
    "a filter as an argument, similar to delete_one() but it deletes all the documents that match the filter.\n",
    "The 'drop()' method is used to remove an entire collection from the database. Unlike the delete methods 'drop()' does not \n",
    "require a filter. When we invoke 'drop()' on a collection, it permanently deletes the entire collection, including all its\n",
    "documents and assosiated indexes."
   ]
  }
 ],
 "metadata": {
  "kernelspec": {
   "display_name": "Python 3 (ipykernel)",
   "language": "python",
   "name": "python3"
  },
  "language_info": {
   "codemirror_mode": {
    "name": "ipython",
    "version": 3
   },
   "file_extension": ".py",
   "mimetype": "text/x-python",
   "name": "python",
   "nbconvert_exporter": "python",
   "pygments_lexer": "ipython3",
   "version": "3.10.8"
  }
 },
 "nbformat": 4,
 "nbformat_minor": 5
}

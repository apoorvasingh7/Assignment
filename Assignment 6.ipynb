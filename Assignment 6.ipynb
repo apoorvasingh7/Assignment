{
 "cells": [
  {
   "cell_type": "code",
   "execution_count": null,
   "id": "b62acb32-d5c0-412a-987f-d2f7a178c054",
   "metadata": {},
   "outputs": [],
   "source": [
    "ANS 1: A class is a blueprint or a template for creating objects,which encapsulates data and the methods that operate on the\n",
    "data. A class defines a properties and a behaviours that an object will have, but it does on create any instances of the object\n",
    "itself.\n",
    "An object is an instance of a class that has a specific values for its properties. An object is a self contained entity that\n",
    "contains both data and the methods that operate on that data.\n",
    "For example, let's say we have a class called \"Person\" and the \"person1\" and \"person2\" objects are instances of the Person \n",
    "class."
   ]
  },
  {
   "cell_type": "code",
   "execution_count": 5,
   "id": "51bde34d-2b74-47b7-9808-98979c13e33f",
   "metadata": {},
   "outputs": [],
   "source": [
    "class Person:\n",
    "    def __init__(self,name,age,gender):\n",
    "        self.name=name\n",
    "        self.age=age\n",
    "        self.gender=gender\n",
    "    def speak(self):\n",
    "        print(\"Hello my name is\"  +  self.name)\n",
    "    def walk(self):\n",
    "        print(self.name + \"is walking\")\n",
    "person1=Person(\"Alice\",25,\"Female\")\n",
    "person2=Person(\"Bob\",30,\"Male\")"
   ]
  },
  {
   "cell_type": "code",
   "execution_count": 6,
   "id": "074d1ca6-f112-4014-b2d4-f0ddac51db17",
   "metadata": {},
   "outputs": [
    {
     "name": "stdout",
     "output_type": "stream",
     "text": [
      "Hello my name isAlice\n"
     ]
    }
   ],
   "source": [
    "person1.speak()"
   ]
  },
  {
   "cell_type": "code",
   "execution_count": 7,
   "id": "50a82402-cfd1-427e-9f15-f06225e29f98",
   "metadata": {},
   "outputs": [
    {
     "name": "stdout",
     "output_type": "stream",
     "text": [
      "Bobis walking\n"
     ]
    }
   ],
   "source": [
    "person2.walk()"
   ]
  },
  {
   "cell_type": "code",
   "execution_count": null,
   "id": "95467159-df3d-478d-8a31-0cdf4cb5d2ce",
   "metadata": {},
   "outputs": [],
   "source": [
    "ANS 2: The four pillars of OOPs are:\n",
    "    1. Encapsulation: Encapsulation refers to the practice of building data and methods together within a class, and\n",
    "    restricting access to them from outside from the class.\n",
    "    2. Inheritance: Inheritance is a mechanism by which a class can inherit properties and behaviours from a parent class.\n",
    "    3. Polymorphism: Polymorphism refers to the ability of objects to take on different forms or behaviours, depending on the\n",
    "    context in which they they are used.\n",
    "    4. Abstraction: Abstraction is the practice of focusing on essential features of an object while ignoring irrelevant\n",
    "    details.\n",
    "    "
   ]
  },
  {
   "cell_type": "code",
   "execution_count": null,
   "id": "6b969ffb-a56a-4fe8-b5d5-283bb920a155",
   "metadata": {},
   "outputs": [],
   "source": [
    "ANS 3: The __init__() function is a special method that is automatically called when an object of a class is created. It is\n",
    "used to initialize the object's properties and any other required setup."
   ]
  },
  {
   "cell_type": "code",
   "execution_count": null,
   "id": "f31e5337-851e-41d9-914b-06b5d2f8331f",
   "metadata": {},
   "outputs": [],
   "source": [
    "class car:\n",
    "    def __init__(self, make, model, year, colour):\n",
    "        self.make=make\n",
    "        self.model=model\n",
    "        self.year=year\n",
    "        self.colour=colour\n",
    "    my_car= car(\"Ford\", \"Mustang\", 2022, \"Red\")"
   ]
  },
  {
   "cell_type": "code",
   "execution_count": null,
   "id": "1d6df5f7-c6f5-431b-850a-3bc26eec61db",
   "metadata": {},
   "outputs": [],
   "source": [
    "Ans 4:'self' is a referencce to the instance of the class itself. It is convention in Python to use 'self' as the first\n",
    "parameter of the instance methods, although it can be given any name. It refers to the object itself and allows you to access \n",
    "its instance variables and the methods from within the class."
   ]
  },
  {
   "cell_type": "code",
   "execution_count": null,
   "id": "46d8bf39-109c-4d71-81a1-b130f91ceb34",
   "metadata": {},
   "outputs": [],
   "source": [
    "ANS 5: Inheritance is a fundamental concept in OOP that allows a class to inherit properties and behaviour from another class,\n",
    "known as the superclass or base class. The class that inherit from the superclass is known as the subclass or derived class.\n",
    "There are several types of inheritance:\n",
    "    1. Single Inheritance: In this type of inheritance, a derived class inherits properties and methods from a single base\n",
    "    class."
   ]
  },
  {
   "cell_type": "code",
   "execution_count": null,
   "id": "b9d786bc-29c8-4d6a-a48f-6bca2d2dd1b9",
   "metadata": {},
   "outputs": [],
   "source": [
    "class animal:\n",
    "    def __init__(self,name,species):\n",
    "        self.name=name\n",
    "        self.species=species\n",
    "    def sound(self):\n",
    "        pass\n",
    "class dog(animal):\n",
    "    def __init__(self,name,breed,):\n",
    "        super().__init__(name,species='Canine')\n",
    "        self.breed=breed\n",
    "    def sound(self):\n",
    "        retuen 'Woof!'\n",
    "                          "
   ]
  },
  {
   "cell_type": "code",
   "execution_count": null,
   "id": "7cf897de-3fc6-4bd8-932c-06306bd0ecb8",
   "metadata": {},
   "outputs": [],
   "source": [
    "2. Multiple Inheritance: In this type of inheritance, a derived class inherits properties and methods from multiple base\n",
    "classes."
   ]
  },
  {
   "cell_type": "code",
   "execution_count": null,
   "id": "dcc0c7aa-e675-4847-aa91-ce9ae1d030f6",
   "metadata": {},
   "outputs": [],
   "source": [
    "class A:\n",
    "    def method_a(self):\n",
    "        pass\n",
    "class B:\n",
    "    def method_b(self):\n",
    "        pass\n",
    "class C(A,B):\n",
    "    def method_c(self):\n",
    "        pass"
   ]
  },
  {
   "cell_type": "code",
   "execution_count": null,
   "id": "a0581757-0554-4ed2-a75e-7b83e26e677b",
   "metadata": {},
   "outputs": [],
   "source": [
    "3.Hierarchical Inheritance: In this type of inheritance, multiple derived classes inherit from a single base class."
   ]
  },
  {
   "cell_type": "code",
   "execution_count": null,
   "id": "901d387c-a9e1-4f06-bcf5-f0104c5b488b",
   "metadata": {},
   "outputs": [],
   "source": [
    "class animal:\n",
    "    def __init__(self,name,species):\n",
    "        self.name=name\n",
    "        self.species=species\n",
    "    def sound(self):\n",
    "        pass\n",
    "class dog(animal):\n",
    "    def __init__(self,name,breed,):\n",
    "        super().__init__(name,species='Canine')\n",
    "        self.breed=breed\n",
    "    def sound(self):\n",
    "        retuen 'Woof!'\n",
    "class cat(animal):\n",
    "    def __init__(self,name,breed):\n",
    "        super().__init__(name,species='Feline')\n",
    "        self.breed=breed\n",
    "    def sound(self):\n",
    "        return 'Meow!'\n",
    "                      "
   ]
  },
  {
   "cell_type": "code",
   "execution_count": null,
   "id": "2b891d0d-0941-4959-aa02-1e32a4beceb0",
   "metadata": {},
   "outputs": [],
   "source": [
    "4. Multilevel Inheritance: In this type of inheritance, a derived class inherits from a base class,which in turn inherits from \n",
    "another base class."
   ]
  },
  {
   "cell_type": "code",
   "execution_count": 13,
   "id": "8913e547-2754-44f5-b713-7aa9c1d6d0fd",
   "metadata": {},
   "outputs": [
    {
     "name": "stdout",
     "output_type": "stream",
     "text": [
      "Squeak!\n",
      "Honk!\n"
     ]
    }
   ],
   "source": [
    "class animal:\n",
    "    def __init__(self,name):\n",
    "        self.name=name\n",
    "    def speak(self):\n",
    "        pass\n",
    "class mammal(animal):\n",
    "    def __init__(self,name):\n",
    "        super().__init__(name)\n",
    "    def give_birth(self):\n",
    "        pass\n",
    "class bat(mammal):\n",
    "    def __init__(self,name):\n",
    "        super().__init__(name)\n",
    "    def speak(self):\n",
    "        print(\"Squeak!\")\n",
    "class bird(animal):\n",
    "    def __init__(self,name):\n",
    "        super().__init__(name)\n",
    "    def lay_eggs(self):\n",
    "        pass\n",
    "class penguin(bird):\n",
    "    def __init__(self,name):\n",
    "        super().__init__(name)\n",
    "    def speak(self):\n",
    "        print(\"Honk!\")\n",
    "bat=bat(\"Batty\")\n",
    "penguin=penguin(\"Penny\")\n",
    "bat.speak()\n",
    "penguin.speak()"
   ]
  },
  {
   "cell_type": "code",
   "execution_count": null,
   "id": "302ac231-008d-470b-9b9c-7f15092716cc",
   "metadata": {},
   "outputs": [],
   "source": []
  }
 ],
 "metadata": {
  "kernelspec": {
   "display_name": "Python 3 (ipykernel)",
   "language": "python",
   "name": "python3"
  },
  "language_info": {
   "codemirror_mode": {
    "name": "ipython",
    "version": 3
   },
   "file_extension": ".py",
   "mimetype": "text/x-python",
   "name": "python",
   "nbconvert_exporter": "python",
   "pygments_lexer": "ipython3",
   "version": "3.10.8"
  }
 },
 "nbformat": 4,
 "nbformat_minor": 5
}

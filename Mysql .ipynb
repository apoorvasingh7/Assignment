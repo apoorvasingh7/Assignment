{
 "cells": [
  {
   "cell_type": "code",
   "execution_count": null,
   "id": "1617c0de-d0df-40a4-a073-668ec8f2bdc0",
   "metadata": {},
   "outputs": [],
   "source": [
    "ANS 1: A database is a structural collection of data that is organized and stored in a way that allows for efficient retrieval,\n",
    "manipulation and management of data. Databases are used in various applications and industries to store and process large \n",
    "volumes of information.\n",
    "SQL databases are based on a structured schema, which defines the tables,columns and relationships within the database while \n",
    "NoSQL databases have a flexible schema or schema-less design. They do not require predefined schemas, allowing for dynamic and \n",
    "unstructured data moels.\n",
    "Some popular SQL databases include MySQL, Microsoft SQL Server.\n",
    "Some popular NoSQL databases include MongoDB,Cassandra."
   ]
  },
  {
   "cell_type": "code",
   "execution_count": null,
   "id": "6f8ecfca-d7aa-445e-be9a-213da6643d5a",
   "metadata": {},
   "outputs": [],
   "source": [
    "ANS 2: DDL stands for Data Definition Language, which is a subset of SQL used to define and manage the structure of a database.\n",
    "DDL statements are used to create, modify, and delete database objects as tables,indexes, views and constraints.\n",
    "1. CREATE: The CREATE statement is used to create a new database object, such as table. It specifies the object's name, \n",
    "structure and any additional properties or constraints.\n",
    "Example:\n",
    "    CREATE TABLE employees (\n",
    "        id INT,\n",
    "        name VARCHAR(100),\n",
    "        age INT,\n",
    "        PRIMARY KEY (id)\n",
    "    );\n",
    "    \n",
    "2. DROP: The DROP statement is used to delete an existing database object, such as table. It permanently removes the object and\n",
    "all associated data.\n",
    "Example: \n",
    "    DROP TABLE employees;\n",
    "\n",
    "3. ALTER: The ALTER statement is used to modify the structure of an existing database object, such as table. It allows adding, \n",
    "modifying, or dropping columns, constraints or indexes.\n",
    "Example:\n",
    "    ALTER TABLE employees\n",
    "    ADD COLUMN salary DECIMAL(10,2);\n",
    "    \n",
    "4. TRUNCATE: The TRUNCATE statement is used to delete all data from an existing table while keeping its structure intact. It is\n",
    "faster than the DELETE statement for removing all records from a table.\n",
    "Example:\n",
    "    TRUNCATE TABLE employees;"
   ]
  },
  {
   "cell_type": "code",
   "execution_count": null,
   "id": "262ad021-9173-4d60-a6dd-4a1b87160c70",
   "metadata": {},
   "outputs": [],
   "source": [
    "ANS 3: DML stands for Data Manipulation Language. It is a subset of SQL used to manage and manipulate data within a relational\n",
    "database. DML statements allows you to perform various operations an the data, such as inserting new records, updating existing\n",
    "records, and deleting unwanted records.\n",
    "\n",
    "1.INSERT: The INSERT statement is used to add new records to a table. It allows you to specify the values for each column or \n",
    "provide a query that retrieves the values from another table.\n",
    "Example:\n",
    "    INSERT INFO Costumers (CustomerID, FirstName, LastName)\n",
    "    VALUES (1,'John','Doe');\n",
    "    \n",
    "2.UPDATE: The UPDATE statement is used to modify existing records in a table. It allows you to specify the columns to be \n",
    "updated and the new values for those columns. You can also include a WHERE clause to specify which records to update.\n",
    "Example:\n",
    "    UPDATE Customers\n",
    "    SET LastName = 'Smith'\n",
    "    WHERE CustomerID = 1;\n",
    "    \n",
    "3.DELETE: The DELETE statement is used to remove one or more records from a table. It allows you to specify a condition using \n",
    "the WHERE clause to determine which records to delete.\n",
    "Example:\n",
    "    DELETE FROM Customers\n",
    "    WHERE CustomerID = 1;"
   ]
  },
  {
   "cell_type": "code",
   "execution_count": null,
   "id": "f05c62c1-f3ce-4eaa-b163-beea62111a9b",
   "metadata": {},
   "outputs": [],
   "source": [
    "ANS 4: DQL stands for Data Query Language. It is a subset of SQL used to retrieve and query data from a relational database. \n",
    "The most commonly used DQL statement is SELECT, which allows you to fetch specific data from one or more tables based on some\n",
    "condition.\n",
    "Example:\n",
    "    SELECT FirstName, LastName\n",
    "    FROM Employees\n",
    "    WHERE Department = 'Sales';"
   ]
  },
  {
   "cell_type": "code",
   "execution_count": null,
   "id": "70f081c8-a9a9-441f-a4f6-cd4445abaeb5",
   "metadata": {},
   "outputs": [],
   "source": [
    "ANS 5:Primary key: A primary key is as column or a set of columns in a table that uniquely identifies each row in a table.\n",
    "It ensures the uniqueness and integrity of the data within the table.\n",
    "Foreign key: A foreign key is a column or a set of columns in a table theat refers to the primary key of another table. It \n",
    "establishes a relationship between two tables, known as a parent-child relationship. The foreign key is the child table \n",
    "references the primary key in the parebnt table."
   ]
  },
  {
   "cell_type": "code",
   "execution_count": null,
   "id": "a83e87d8-2dc0-45cd-a323-6ad43d391b14",
   "metadata": {},
   "outputs": [],
   "source": [
    "ANS 6:"
   ]
  },
  {
   "cell_type": "code",
   "execution_count": null,
   "id": "08e01bbd-b73c-45f9-92e2-d14b9a94fc75",
   "metadata": {},
   "outputs": [],
   "source": [
    "import mysql.connector\n",
    "cnx=mysql.connector.connect(\n",
    "    user='your_username',\n",
    "    password='your_password',\n",
    "    host='localhost',\n",
    "    database='your_database'\n",
    ")\n",
    "cursor=cnx.cursor()\n",
    "query=\"SELECT * FROM your_table\"\n",
    "cusror.execute(query)\n",
    "results=cursor.fetchall()\n",
    "for row in results:\n",
    "    print(row)\n",
    "cursor.close()\n",
    "cnx.close()"
   ]
  },
  {
   "cell_type": "code",
   "execution_count": null,
   "id": "fdae5207-10cd-427d-8c4a-d8e5ac272491",
   "metadata": {},
   "outputs": [],
   "source": [
    "1.cursor(): The cursor() method is used to create a cursor object, which allows you to execute SQL statement and fetch results \n",
    "from the database.\n",
    "2.execute(): The execute() method is used to execute SQL queries or statements through the cursor object. It takes an SQL query\n",
    "as a parameter and sends it to the  database for execution."
   ]
  },
  {
   "cell_type": "code",
   "execution_count": null,
   "id": "eae3fa69-b342-4117-81c4-d62ea479d5be",
   "metadata": {},
   "outputs": [],
   "source": [
    "ANS 7: 1.FROM clause\n",
    "2. WHERE clause\n",
    "3. GROUP BY clause\n",
    "4. HAVING clause\n",
    "4. SELECT clause \n",
    "5. ORDER BY clause\n",
    "6. LIMIT/OFFSET clause "
   ]
  }
 ],
 "metadata": {
  "kernelspec": {
   "display_name": "Python 3 (ipykernel)",
   "language": "python",
   "name": "python3"
  },
  "language_info": {
   "codemirror_mode": {
    "name": "ipython",
    "version": 3
   },
   "file_extension": ".py",
   "mimetype": "text/x-python",
   "name": "python",
   "nbconvert_exporter": "python",
   "pygments_lexer": "ipython3",
   "version": "3.10.8"
  }
 },
 "nbformat": 4,
 "nbformat_minor": 5
}

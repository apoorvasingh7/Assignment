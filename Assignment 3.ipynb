{
 "cells": [
  {
   "cell_type": "code",
   "execution_count": null,
   "id": "8830c2a9-6275-4edb-9f6b-6f0538b658f3",
   "metadata": {},
   "outputs": [],
   "source": [
    "ANS 1- The for statement iterates through a collection or iterable objects whereas while statement simply loops until a\n",
    "condition is false."
   ]
  },
  {
   "cell_type": "code",
   "execution_count": 1,
   "id": "ea5ff63d-a1a8-463c-908b-cb9d7d29bcd5",
   "metadata": {},
   "outputs": [
    {
     "name": "stdout",
     "output_type": "stream",
     "text": [
      "4\n",
      "67.34\n",
      "apoorva\n",
      "(8+2j)\n",
      "True\n",
      "34\n"
     ]
    }
   ],
   "source": [
    "l= [4,67.34,\"apoorva\",8+2j,True,34]\n",
    "for i in l:\n",
    "    print(i)"
   ]
  },
  {
   "cell_type": "code",
   "execution_count": 2,
   "id": "bf45dcae-84e3-4982-844e-113e30b5632c",
   "metadata": {},
   "outputs": [
    {
     "name": "stdin",
     "output_type": "stream",
     "text": [
      "enter desired number 5\n"
     ]
    },
    {
     "name": "stdout",
     "output_type": "stream",
     "text": [
      "odd number\n"
     ]
    }
   ],
   "source": [
    "num = int(input(\"enter desired number\"))\n",
    "while num%2==0:\n",
    "    print(\"even number\")\n",
    "else:\n",
    "    print(\"odd number\")"
   ]
  },
  {
   "cell_type": "code",
   "execution_count": null,
   "id": "320ed10d-59da-4322-b681-fd724910fbd2",
   "metadata": {},
   "outputs": [],
   "source": [
    "ANS 2"
   ]
  },
  {
   "cell_type": "code",
   "execution_count": 6,
   "id": "c565827e-6196-4586-8cd2-8490a64b3864",
   "metadata": {},
   "outputs": [
    {
     "data": {
      "text/plain": [
       "55"
      ]
     },
     "execution_count": 6,
     "metadata": {},
     "output_type": "execute_result"
    }
   ],
   "source": [
    "result = 0\n",
    "for i in range(1,11):\n",
    "    result+=i\n",
    "result"
   ]
  },
  {
   "cell_type": "code",
   "execution_count": 8,
   "id": "5d32d877-ac08-49bb-9022-6ed275255b76",
   "metadata": {},
   "outputs": [
    {
     "data": {
      "text/plain": [
       "3628800"
      ]
     },
     "execution_count": 8,
     "metadata": {},
     "output_type": "execute_result"
    }
   ],
   "source": [
    "result=1\n",
    "for i in range(1,11):\n",
    "    result*=i\n",
    "result"
   ]
  },
  {
   "cell_type": "code",
   "execution_count": 14,
   "id": "159d1b15-0ec4-4006-bdf2-978daf33c7e5",
   "metadata": {},
   "outputs": [
    {
     "data": {
      "text/plain": [
       "55"
      ]
     },
     "execution_count": 14,
     "metadata": {},
     "output_type": "execute_result"
    }
   ],
   "source": [
    "a=10\n",
    "first_nat_num=1\n",
    "counter =2\n",
    "while counter<=a:\n",
    "    first_nat_num+=counter\n",
    "    counter+=1\n",
    "first_nat_num"
   ]
  },
  {
   "cell_type": "code",
   "execution_count": 15,
   "id": "5b88d172-1288-43e2-870e-1c400aff94b1",
   "metadata": {},
   "outputs": [
    {
     "data": {
      "text/plain": [
       "3628800"
      ]
     },
     "execution_count": 15,
     "metadata": {},
     "output_type": "execute_result"
    }
   ],
   "source": [
    "a=10\n",
    "first_nat_num=1\n",
    "counter=2\n",
    "while counter<=a:\n",
    "    first_nat_num*=counter\n",
    "    counter+=1\n",
    "first_nat_num"
   ]
  },
  {
   "cell_type": "code",
   "execution_count": null,
   "id": "647154f3-bc82-417d-a6b3-72a4fc0b8aad",
   "metadata": {},
   "outputs": [],
   "source": [
    "ANS 3"
   ]
  },
  {
   "cell_type": "code",
   "execution_count": 5,
   "id": "0033acff-7f22-44fe-9c5f-c0b1693b7d8b",
   "metadata": {},
   "outputs": [
    {
     "name": "stdin",
     "output_type": "stream",
     "text": [
      "Enter your unit 310\n"
     ]
    },
    {
     "data": {
      "text/plain": [
       "2250"
      ]
     },
     "execution_count": 5,
     "metadata": {},
     "output_type": "execute_result"
    }
   ],
   "source": [
    "unit=int(input(\"Enter your unit\"))\n",
    "if unit<=100:\n",
    "    bill=100*4.5\n",
    "elif unit<=200:\n",
    "    bill=450+100*6\n",
    "elif unit<=300:\n",
    "    bill=450+600+100*10\n",
    "else:\n",
    "    bill=450+600+1000+(unit-300)*20\n",
    "bill"
   ]
  },
  {
   "cell_type": "code",
   "execution_count": null,
   "id": "21d35407-4364-4a3d-b07c-556896c7ae5b",
   "metadata": {},
   "outputs": [],
   "source": [
    "ANS 5"
   ]
  },
  {
   "cell_type": "code",
   "execution_count": 35,
   "id": "416ceac1-3af6-43b7-809e-0bab766497bb",
   "metadata": {},
   "outputs": [
    {
     "name": "stdout",
     "output_type": "stream",
     "text": [
      "12\n"
     ]
    }
   ],
   "source": [
    "str=\"i want to become a data scientist\"\n",
    "count=0\n",
    "for i in range(len(str)):\n",
    "    if str[i]==\"a\":\n",
    "        count+=1\n",
    "    elif str[i]==\"e\":\n",
    "        count+=1\n",
    "    elif str[i]==\"i\":\n",
    "        count+=1\n",
    "    elif str[i]==\"o\":\n",
    "        count+=1\n",
    "    elif str[i]==\"u\":\n",
    "        count+=1\n",
    "print(count)"
   ]
  },
  {
   "cell_type": "code",
   "execution_count": null,
   "id": "83564e1a-2f11-4f77-a46b-ad55b1dbfa75",
   "metadata": {},
   "outputs": [],
   "source": []
  }
 ],
 "metadata": {
  "kernelspec": {
   "display_name": "Python 3 (ipykernel)",
   "language": "python",
   "name": "python3"
  },
  "language_info": {
   "codemirror_mode": {
    "name": "ipython",
    "version": 3
   },
   "file_extension": ".py",
   "mimetype": "text/x-python",
   "name": "python",
   "nbconvert_exporter": "python",
   "pygments_lexer": "ipython3",
   "version": "3.10.8"
  }
 },
 "nbformat": 4,
 "nbformat_minor": 5
}

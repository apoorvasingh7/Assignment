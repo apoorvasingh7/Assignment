{
 "cells": [
  {
   "cell_type": "code",
   "execution_count": null,
   "id": "13c039d9-0eea-47f0-b380-013b8e0ef25e",
   "metadata": {},
   "outputs": [],
   "source": [
    "ANS 1:"
   ]
  },
  {
   "cell_type": "code",
   "execution_count": null,
   "id": "f673d5b0-38fe-41e7-9e93-70d7d649e435",
   "metadata": {},
   "outputs": [],
   "source": [
    "Abstraction in OOP refers to the ability to hide omplex implementation details of an object and only expose essential features\n",
    "of the user.\n",
    "For example, let's say we have a class called \"Car\" that has various attributes such as make,model,year,colour and so on and \n",
    "methods such as start(),stop(), accelerate(), and brake(). Abstraction allows us to only expose essential features of the Car \n",
    "object to the user, while hiding complex implementation details.\n",
    "In this case, we could create a simpler class called \"Vehicle\" that has only essential methods such as start() , stop(), and \n",
    "brake(), which can be used for any type of vehicle, including cars, buses, and motorcycles. The implementation details for each\n",
    "specific type of vehicle can be hidden within its own class, such as \"Car\" or \"Bus\", which inherit from the \"Vehicle\" class."
   ]
  },
  {
   "cell_type": "code",
   "execution_count": null,
   "id": "8a94f0c6-cebc-4293-b6a4-fdebb3b187c4",
   "metadata": {},
   "outputs": [],
   "source": [
    "ANS 2:"
   ]
  },
  {
   "cell_type": "code",
   "execution_count": null,
   "id": "6bc9b2e2-f33e-4b45-b078-62b05bee52f1",
   "metadata": {},
   "outputs": [],
   "source": [
    "Abstraction is the process of identifying the essential characteristics of an object or system while ignoring the non-essential\n",
    "characteristics. It involves creating a simplified, abstract representation of something complex, with the goal of focusing on \n",
    "the most importatnt features or behaviours.\n",
    "Encapsulation, on the other hand, is a technique of hiding the internal working of the objectfrom the outside world, and \n",
    "providing a well defined interface for interacting with the object. It involves grouping related data and behaviours into a\n",
    "single unit., and controlling access to that unit through the interface.\n",
    "An example might be a car dashboard. the dasnboard provides a simplified, abstract representation of the car's various systems,\n",
    "such as the speedometer, fuel gauge, and temperature gauge. It allows the driver to quickly and easily access the most\n",
    "important information about the car's performance, without having to understant the complex working of the engine, transmission\n",
    "or other components.\n",
    "An example of encapsulation might be a bank account object. The account object might contain data sucha s the account holder's \n",
    "name, account number, and balance as well as behaviours such as deposiying and withdrawing money. These data and behaviours are\n",
    "encapsulated within the object. Instead, the object provides a well defined interface for interacting with it, such as methods\n",
    "for depositing and withdrawing money, and accessing the account balance. This encapsulation ensures that the internal working \n",
    "of the account are hidden from the oustdide world, and the interactions with the account are controlles and secure."
   ]
  },
  {
   "cell_type": "code",
   "execution_count": null,
   "id": "2fe084f2-c2b0-4d12-8f31-e73be11b1cf1",
   "metadata": {},
   "outputs": [],
   "source": [
    "ANS 3:"
   ]
  },
  {
   "cell_type": "code",
   "execution_count": null,
   "id": "c4f3c887-27d2-4334-ac39-050cdeae5afa",
   "metadata": {},
   "outputs": [],
   "source": [
    "The abc module in python is used to define abstract base classes, which provide a way to define commom interfaces or \n",
    "behaviors that multiple classes can inherit from, without enforcing a specific implementation. It promotes code \n",
    "reusability, allows for flexible class hierarchies, and can be used for type checking and documentation purposes. So \n",
    "it's a useful tool for designing object oriented programs with Python."
   ]
  },
  {
   "cell_type": "code",
   "execution_count": null,
   "id": "c6926685-e95e-4541-9831-270770dd16a0",
   "metadata": {},
   "outputs": [],
   "source": [
    "ANS 4:"
   ]
  },
  {
   "cell_type": "code",
   "execution_count": null,
   "id": "af7a74f2-e542-4622-9223-d6710fe71a15",
   "metadata": {},
   "outputs": [],
   "source": [
    "Ways to achieve data abstraction are :\n",
    "    1. Encapsulation: Encapsulation is a process of hiding internal implementation details of an object and exposing \n",
    "    only the essential features and methods. This can be achieved through the use of classes and objects in OOP. By \n",
    "    defining classes with private data members and public methods, you can encapsulate the internal workings of an \n",
    "    object and provide a clean interface for accessing and manipulating the data.\n",
    "    2. Abstract classes and interfaces: Abstract classes and interfaces are used in OOP to provide abstract, high level \n",
    "    definitions of object and their behaviour, without specified their implement details. Abstract classes are classes \n",
    "    that can not be instantiated and are meant to be subclassed, while interfaces define a contract that classes must\n",
    "    adhere to. "
   ]
  },
  {
   "cell_type": "code",
   "execution_count": null,
   "id": "812a21ec-4e07-4148-af77-29685b20021e",
   "metadata": {},
   "outputs": [],
   "source": [
    "ANS 5:"
   ]
  },
  {
   "cell_type": "code",
   "execution_count": null,
   "id": "eb7b43d6-cdb1-43a5-b772-30044eac4d36",
   "metadata": {},
   "outputs": [],
   "source": [
    "No, we can not create an instance of an abstract class. AN abstract class is a class that is meant to be subclassed and\n",
    "extended by other classes, but cannot be instantiated directly. It typically contains abstract methods, which are methods\n",
    "without an implementation in the abstract calss itself and must be implemented by its subclasses.\n",
    "When we try to create an instance of an abtract class, you will typically encounter an erroror exception, indicating that\n",
    "the abstract class cannot be instantiated. The purpose of an abstract c"
   ]
  }
 ],
 "metadata": {
  "kernelspec": {
   "display_name": "Python 3 (ipykernel)",
   "language": "python",
   "name": "python3"
  },
  "language_info": {
   "codemirror_mode": {
    "name": "ipython",
    "version": 3
   },
   "file_extension": ".py",
   "mimetype": "text/x-python",
   "name": "python",
   "nbconvert_exporter": "python",
   "pygments_lexer": "ipython3",
   "version": "3.10.8"
  }
 },
 "nbformat": 4,
 "nbformat_minor": 5
}

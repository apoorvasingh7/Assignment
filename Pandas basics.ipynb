{
 "cells": [
  {
   "cell_type": "code",
   "execution_count": null,
   "id": "56bcde74-bde6-46cf-ac16-a92b91becb62",
   "metadata": {},
   "outputs": [],
   "source": [
    "ANS 1: "
   ]
  },
  {
   "cell_type": "code",
   "execution_count": 1,
   "id": "eba9ad91-3998-45b4-a360-192fec7dcd15",
   "metadata": {},
   "outputs": [
    {
     "name": "stdout",
     "output_type": "stream",
     "text": [
      "0     4\n",
      "1     8\n",
      "2    15\n",
      "3    16\n",
      "4    23\n",
      "5    42\n",
      "dtype: int64\n"
     ]
    }
   ],
   "source": [
    "import pandas as pd\n",
    "\n",
    "data = [4,8,15,16,23,42]\n",
    "series = pd.Series(data)\n",
    "\n",
    "print(series)"
   ]
  },
  {
   "cell_type": "code",
   "execution_count": null,
   "id": "e9090c73-66b5-49b7-9402-74e1b81c3782",
   "metadata": {},
   "outputs": [],
   "source": [
    "ANS 2:"
   ]
  },
  {
   "cell_type": "code",
   "execution_count": 2,
   "id": "a0b1add9-543a-4248-b69e-b16b6a8333db",
   "metadata": {},
   "outputs": [
    {
     "name": "stdout",
     "output_type": "stream",
     "text": [
      "0     1\n",
      "1     2\n",
      "2     3\n",
      "3     4\n",
      "4     5\n",
      "5     6\n",
      "6     7\n",
      "7     8\n",
      "8     9\n",
      "9    10\n",
      "dtype: int64\n"
     ]
    }
   ],
   "source": [
    "import pandas as pd\n",
    "\n",
    "list = [1,2,3,4,5,6,7,8,9,10]\n",
    "series = pd.Series(list)\n",
    "\n",
    "print(series)"
   ]
  },
  {
   "cell_type": "code",
   "execution_count": null,
   "id": "e6e91945-efba-4f13-952f-cf219103d69b",
   "metadata": {},
   "outputs": [],
   "source": [
    "ANS 3:"
   ]
  },
  {
   "cell_type": "code",
   "execution_count": 3,
   "id": "3db59c2c-406d-4fb5-b9af-6c56e6c55c4e",
   "metadata": {},
   "outputs": [
    {
     "name": "stdout",
     "output_type": "stream",
     "text": [
      "     Name  Age  Gender\n",
      "0   Alice   25  Female\n",
      "1     Bob   30    Male\n",
      "2  Claire   27  Female\n"
     ]
    }
   ],
   "source": [
    "import pandas as pd\n",
    "\n",
    "data = {\n",
    "    'Name': ['Alice','Bob','Claire'],\n",
    "    'Age': [25,30,27],\n",
    "    'Gender': ['Female','Male','Female']\n",
    "}\n",
    "\n",
    "df = pd.DataFrame(data)\n",
    "\n",
    "print(df)"
   ]
  },
  {
   "cell_type": "code",
   "execution_count": null,
   "id": "22748ec1-9829-4cca-886d-3bb38e9e2fdd",
   "metadata": {},
   "outputs": [],
   "source": [
    "ANS 4 : In pandas, a DataFrame is a two-dimensional labeled data structure that is capable of holding data of different \n",
    "types. It can be thought of as a table or a spreadsheet where data is organized in rows and columns.\n",
    "On the other hand, in pandas a Series is a one-dimensional labeled array that can hold data of any type. It is similar to\n",
    "a column in a DataFrame or a single column of data in a spreadsheet.\n",
    "Example:\n",
    "    "
   ]
  },
  {
   "cell_type": "code",
   "execution_count": 6,
   "id": "0ed8a422-85fd-4b85-8722-a09fc021c1f3",
   "metadata": {},
   "outputs": [
    {
     "name": "stdout",
     "output_type": "stream",
     "text": [
      "     Name  Age      City\n",
      "0    John   19  New York\n",
      "1    Emma   42    London\n",
      "2  Robert   24     Paris\n"
     ]
    }
   ],
   "source": [
    "import pandas as pd\n",
    "data = { 'Name':['John','Emma','Robert'],\n",
    "        'Age':[19,42,24],\n",
    "        'City':['New York','London','Paris']}\n",
    "df = pd.DataFrame(data)\n",
    "print(df)"
   ]
  },
  {
   "cell_type": "code",
   "execution_count": null,
   "id": "8f384708-8832-4cd4-9ece-18bba4d86acc",
   "metadata": {},
   "outputs": [],
   "source": [
    "The above is a example of a DataFrame in which 'df' is a DataFrame with three column.\n",
    "We can access individual columns(series) from the DataFrame using their column names:"
   ]
  },
  {
   "cell_type": "code",
   "execution_count": 5,
   "id": "22591cb6-cbd3-46d5-9455-f959ea0740ac",
   "metadata": {},
   "outputs": [
    {
     "name": "stdout",
     "output_type": "stream",
     "text": [
      "0      John\n",
      "1      Emma\n",
      "2    Robert\n",
      "Name: Name, dtype: object\n"
     ]
    }
   ],
   "source": [
    "name_series = df['Name']\n",
    "print(name_series)"
   ]
  },
  {
   "cell_type": "code",
   "execution_count": null,
   "id": "1eef93fd-dc23-49e0-9dd7-2d0cde574305",
   "metadata": {},
   "outputs": [],
   "source": [
    "In the above example, we accessed the 'Name' column from the DataFrame and stored it in the variable 'name_series'."
   ]
  },
  {
   "cell_type": "code",
   "execution_count": null,
   "id": "b49b9a2d-bf95-44af-906d-89b6fb11b413",
   "metadata": {},
   "outputs": [],
   "source": [
    "ANS 5: \n",
    "    1. head(): Returns the first n rows of the DataFrame.\n",
    "    \n",
    "    df.head(5)\n",
    "    \n",
    "    2.tail() : Returns the last n rows of the DataFrame.\n",
    "    \n",
    "    df.tail(3)\n",
    "    \n",
    "    3.info() : Provides the summary of the DataFrame,including the column names, data types, and non-null counts.\n",
    "    \n",
    "    df.info()\n",
    "    \n",
    "    4. describe(): Generates descriptive statistics of the numerical columns in the DataFrame such as count,mean,standard\n",
    "    deviation,minimum,maximum,and quartiles.\n",
    "    \n",
    "    df.describe()\n",
    "    \n",
    "    5.sort_values():Sorts the DataFrame by one or more columns.\n",
    "    \n",
    "    df.sort_values('Age')"
   ]
  },
  {
   "cell_type": "code",
   "execution_count": null,
   "id": "f0609601-01aa-44ed-b308-904abb238135",
   "metadata": {},
   "outputs": [],
   "source": [
    "ANS 6: Both Series and DataFrame are mutable in nature and can be modified, while the Panal object is not mutable and \n",
    "has been deprecated in pandas."
   ]
  },
  {
   "cell_type": "code",
   "execution_count": null,
   "id": "be1b18e1-43cf-48b6-9e37-db0009acde5f",
   "metadata": {},
   "outputs": [],
   "source": [
    "ANS 7: To create a DataFrame using multiple Series, you can pass a dictionary of Series objects to the 'pd.DataFrame()'\n",
    "constructor. Each Series will become a column in the resulting DataFrame, and the dictionary keys will be used as the \n",
    "column names."
   ]
  },
  {
   "cell_type": "code",
   "execution_count": 8,
   "id": "ffc0ce7e-b4de-4d40-840f-95610a088bd1",
   "metadata": {},
   "outputs": [
    {
     "name": "stdout",
     "output_type": "stream",
     "text": [
      "       Name  Age      Country\n",
      "0  Sidharth   32        India\n",
      "1  Jungkook   25  South Korea\n",
      "2      Nick   28        Spain\n"
     ]
    }
   ],
   "source": [
    "import pandas as pd\n",
    "\n",
    "name_series = pd.Series(['Sidharth','Jungkook','Nick'])\n",
    "age_series = pd.Series([32,25,28])\n",
    "country_series = pd.Series(['India','South Korea','Spain'])\n",
    "\n",
    "data = {'Name':name_series, 'Age' : age_series, 'Country': country_series}\n",
    "df = pd.DataFrame(data)\n",
    "\n",
    "print(df)"
   ]
  },
  {
   "cell_type": "code",
   "execution_count": null,
   "id": "26cab257-db31-4a8d-9c02-bc698bcdf6fc",
   "metadata": {},
   "outputs": [],
   "source": []
  }
 ],
 "metadata": {
  "kernelspec": {
   "display_name": "Python 3 (ipykernel)",
   "language": "python",
   "name": "python3"
  },
  "language_info": {
   "codemirror_mode": {
    "name": "ipython",
    "version": 3
   },
   "file_extension": ".py",
   "mimetype": "text/x-python",
   "name": "python",
   "nbconvert_exporter": "python",
   "pygments_lexer": "ipython3",
   "version": "3.10.8"
  }
 },
 "nbformat": 4,
 "nbformat_minor": 5
}

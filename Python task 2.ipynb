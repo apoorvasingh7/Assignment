{
 "cells": [
  {
   "cell_type": "code",
   "execution_count": null,
   "id": "ad734a17-ebe7-46da-b6bc-c06994ba014a",
   "metadata": {},
   "outputs": [],
   "source": [
    "ANS 1"
   ]
  },
  {
   "cell_type": "code",
   "execution_count": 2,
   "id": "b03b7bb4-54a5-4d55-9443-636a99231f7b",
   "metadata": {},
   "outputs": [],
   "source": [
    "import re\n",
    "def validate_password(password):\n",
    "    if len(password) != 10:\n",
    "        return \"Invalid Password\"\n",
    "    if not re.search(r'[A-Z].*[A-Z]',password) or not re.search(r'[a-z].*[a-z]',password):\n",
    "        return \"Invalid Password\"\n",
    "    if not re.search(r'/d',password) or not re.findall(r'[!@#$%^&*(),.?\":{}<>|]',password):\n",
    "        return \"Invalid Password\"\n",
    "    return \"Valid Password\"\n",
    "        "
   ]
  },
  {
   "cell_type": "code",
   "execution_count": 4,
   "id": "4883f3cf-29af-42ad-a311-7a1a47786e60",
   "metadata": {},
   "outputs": [
    {
     "name": "stdin",
     "output_type": "stream",
     "text": [
      "Enter password:  ukfSSH23\n"
     ]
    },
    {
     "name": "stdout",
     "output_type": "stream",
     "text": [
      "Invalid Password\n"
     ]
    }
   ],
   "source": [
    "password = input(\"Enter password: \")\n",
    "result = validate_password(password)\n",
    "print(result)"
   ]
  },
  {
   "cell_type": "code",
   "execution_count": null,
   "id": "f14a7831-f668-4093-96c0-c54d21bae9f1",
   "metadata": {},
   "outputs": [],
   "source": [
    "ANS 2 "
   ]
  },
  {
   "cell_type": "code",
   "execution_count": 5,
   "id": "571a37be-994e-485a-8af5-906c42cca89f",
   "metadata": {},
   "outputs": [
    {
     "name": "stdout",
     "output_type": "stream",
     "text": [
      "String starts with letter\n"
     ]
    }
   ],
   "source": [
    "s = \"hello\"\n",
    "letter = \"h\"\n",
    "starts_with_letter = lambda s, letter: s.startswith(letter)\n",
    "print(\"String starts with letter\" if starts_with_letter(s,letter) else \"String does not start with letter\")"
   ]
  },
  {
   "cell_type": "code",
   "execution_count": 6,
   "id": "7f286dc3-72ca-465b-89db-a62a4c0552b0",
   "metadata": {},
   "outputs": [
    {
     "name": "stdout",
     "output_type": "stream",
     "text": [
      "['123', '456']\n"
     ]
    }
   ],
   "source": [
    "string_list = [\"hello\",\"123\",\"world\",\"456\"]\n",
    "numeric_list = list(filter(lambda s: s.isnumeric(), string_list))\n",
    "print(numeric_list)"
   ]
  },
  {
   "cell_type": "code",
   "execution_count": 7,
   "id": "d485be30-50c2-4998-832a-257295c41239",
   "metadata": {},
   "outputs": [
    {
     "name": "stdout",
     "output_type": "stream",
     "text": [
      "[('orange', 80), ('mango', 99), ('grapes', 1000)]\n"
     ]
    }
   ],
   "source": [
    "fruits = [(\"mango\",99),(\"orange\",80),(\"grapes\",1000)]\n",
    "sorted_fruits = sorted(fruits, key= lambda x:x[1])\n",
    "sorted_fruits_lc = [(fruit,quantity) for fruit,quantity in sorted_fruits]\n",
    "print(sorted_fruits_lc)"
   ]
  },
  {
   "cell_type": "code",
   "execution_count": 8,
   "id": "f8f73277-4921-4600-882f-d56e25765922",
   "metadata": {},
   "outputs": [
    {
     "name": "stdout",
     "output_type": "stream",
     "text": [
      "[1, 4, 9, 16, 25, 36, 49, 64, 81, 100]\n"
     ]
    }
   ],
   "source": [
    "numbers = range(1,11)\n",
    "squares = map(lambda x: x**2, numbers)\n",
    "print(list(squares))"
   ]
  },
  {
   "cell_type": "code",
   "execution_count": 10,
   "id": "b88e4ee4-8e6f-43fe-a806-ffcbe67e2675",
   "metadata": {},
   "outputs": [
    {
     "name": "stdout",
     "output_type": "stream",
     "text": [
      "[1.0, 1.2599210498948732, 1.4422495703074083, 1.5874010519681994, 1.7099759466766968, 1.8171205928321397, 1.912931182772389, 2.0, 2.080083823051904, 2.154434690031884]\n"
     ]
    }
   ],
   "source": [
    "import math\n",
    "numbers = range(1,11)\n",
    "cube_roots = map(lambda x: math.pow(x,1/3),numbers)\n",
    "print(list(cube_roots))"
   ]
  },
  {
   "cell_type": "code",
   "execution_count": 11,
   "id": "27ecc948-a9c1-448e-a150-4e6065dee4e4",
   "metadata": {},
   "outputs": [
    {
     "name": "stdout",
     "output_type": "stream",
     "text": [
      "[6]\n"
     ]
    }
   ],
   "source": [
    "number = 6\n",
    "is_even = filter(lambda x: x%2 == 0 , [number])\n",
    "print(list(is_even))"
   ]
  },
  {
   "cell_type": "code",
   "execution_count": 12,
   "id": "4136644d-7a71-4599-b9f4-2dc7c0796dd0",
   "metadata": {},
   "outputs": [
    {
     "name": "stdout",
     "output_type": "stream",
     "text": [
      "[1, 3, 5, 7, 9]\n"
     ]
    }
   ],
   "source": [
    "numbers = [1,2,3,4,5,6,7,8,9,10]\n",
    "odd_numbers = filter(lambda x: x%2 != 0, numbers)\n",
    "print(list(odd_numbers))"
   ]
  },
  {
   "cell_type": "code",
   "execution_count": 13,
   "id": "2202ec62-a11e-4dc6-9dde-c5bec76acd5d",
   "metadata": {},
   "outputs": [
    {
     "name": "stdout",
     "output_type": "stream",
     "text": [
      "[1, 2, 3, 4, 5, 6]\n",
      "[-1, -2, -3, -4, -5]\n"
     ]
    }
   ],
   "source": [
    "numbers = [1,2,3,4,5,6,-1,-2,-3,-4,-5,0]\n",
    "positive_numbers = [x for x in numbers if x>0]\n",
    "negative_numbers = [x for x in numbers if x<0]\n",
    "print(positive_numbers)\n",
    "print(negative_numbers)"
   ]
  }
 ],
 "metadata": {
  "kernelspec": {
   "display_name": "Python 3 (ipykernel)",
   "language": "python",
   "name": "python3"
  },
  "language_info": {
   "codemirror_mode": {
    "name": "ipython",
    "version": 3
   },
   "file_extension": ".py",
   "mimetype": "text/x-python",
   "name": "python",
   "nbconvert_exporter": "python",
   "pygments_lexer": "ipython3",
   "version": "3.10.8"
  }
 },
 "nbformat": 4,
 "nbformat_minor": 5
}

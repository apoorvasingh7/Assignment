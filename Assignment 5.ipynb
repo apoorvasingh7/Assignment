{
 "cells": [
  {
   "cell_type": "code",
   "execution_count": 1,
   "id": "4b19ef87-30a8-476f-bec6-508097fc1159",
   "metadata": {},
   "outputs": [
    {
     "name": "stdout",
     "output_type": "stream",
     "text": [
      "[('Virat Kohli', 24936), ('Jack Kallis', 25534), ('Ricky Ponding', 27483), ('Sachin Tendulkar', 34357)]\n"
     ]
    }
   ],
   "source": [
    "players = [('Sachin Tendulkar',34357),('Ricky Ponding',27483),('Jack Kallis',25534),('Virat Kohli',24936)]\n",
    "sorted_players=sorted(players, key= lambda x : x[1])\n",
    "print(sorted_players)"
   ]
  },
  {
   "cell_type": "code",
   "execution_count": null,
   "id": "5cd1b286-edef-4331-b23f-b771e419fa54",
   "metadata": {},
   "outputs": [],
   "source": [
    "ANS 2:"
   ]
  },
  {
   "cell_type": "code",
   "execution_count": 3,
   "id": "a3dbbb23-4931-4029-9737-eb9ea8ffeb80",
   "metadata": {},
   "outputs": [
    {
     "name": "stdout",
     "output_type": "stream",
     "text": [
      "[1, 4, 9, 16, 25, 36, 49, 64, 81, 100]\n"
     ]
    }
   ],
   "source": [
    "l=[1,2,3,4,5,6,7,8,9,10]\n",
    "squares=list(map(lambda x:x**2,l))\n",
    "print(squares)"
   ]
  },
  {
   "cell_type": "code",
   "execution_count": null,
   "id": "e13a8df5-26c0-431d-b3ea-db48be1b2f32",
   "metadata": {},
   "outputs": [],
   "source": [
    "ANS 3:"
   ]
  },
  {
   "cell_type": "code",
   "execution_count": 8,
   "id": "502c8497-498b-4e9e-b286-e8248f423f90",
   "metadata": {},
   "outputs": [
    {
     "name": "stdout",
     "output_type": "stream",
     "text": [
      "('1', '2', '3', '4', '5', '6', '7', '8', '9', '10')\n"
     ]
    }
   ],
   "source": [
    "l=[1,2,3,4,5,6,7,8,9,10]\n",
    "l1=tuple(map(lambda x:(str(x)),l))\n",
    "print(l1)"
   ]
  },
  {
   "cell_type": "code",
   "execution_count": null,
   "id": "2279fbc1-9a48-4659-bd78-92a5a73b7154",
   "metadata": {},
   "outputs": [],
   "source": [
    "ANS 4:"
   ]
  },
  {
   "cell_type": "code",
   "execution_count": 11,
   "id": "244d3e18-92e8-42f8-90db-a5499da6087d",
   "metadata": {},
   "outputs": [
    {
     "name": "stdout",
     "output_type": "stream",
     "text": [
      "15511210043330985984000000\n"
     ]
    }
   ],
   "source": [
    "from functools import reduce\n",
    "num=list(range(1,26))\n",
    "product = reduce(lambda x,y:x*y,num)\n",
    "print(product)"
   ]
  },
  {
   "cell_type": "code",
   "execution_count": null,
   "id": "812abbca-ee4b-48e3-860b-782e1cde0907",
   "metadata": {},
   "outputs": [],
   "source": [
    "ANS 5:"
   ]
  },
  {
   "cell_type": "code",
   "execution_count": 12,
   "id": "cef91730-a1ee-425b-80d4-022cff3839e3",
   "metadata": {},
   "outputs": [
    {
     "name": "stdout",
     "output_type": "stream",
     "text": [
      "[6, 60, 90, 120]\n"
     ]
    }
   ],
   "source": [
    "l=[2,3,6,9,27,60,90,120,55,46]\n",
    "filtered_num= list(filter(lambda x: x%2==0 and x%3==0,l))\n",
    "print(filtered_num)"
   ]
  },
  {
   "cell_type": "code",
   "execution_count": null,
   "id": "0e4b0cf6-c617-4b39-98c6-757bf571e88b",
   "metadata": {},
   "outputs": [],
   "source": [
    "ANS 6:"
   ]
  },
  {
   "cell_type": "code",
   "execution_count": null,
   "id": "0a089bfe-259b-4637-a99e-273698400d0c",
   "metadata": {},
   "outputs": [],
   "source": [
    "words=['python','php','aba','radar','level']\n"
   ]
  }
 ],
 "metadata": {
  "kernelspec": {
   "display_name": "Python 3 (ipykernel)",
   "language": "python",
   "name": "python3"
  },
  "language_info": {
   "codemirror_mode": {
    "name": "ipython",
    "version": 3
   },
   "file_extension": ".py",
   "mimetype": "text/x-python",
   "name": "python",
   "nbconvert_exporter": "python",
   "pygments_lexer": "ipython3",
   "version": "3.10.8"
  }
 },
 "nbformat": 4,
 "nbformat_minor": 5
}

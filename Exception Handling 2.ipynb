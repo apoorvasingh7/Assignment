{
 "cells": [
  {
   "cell_type": "code",
   "execution_count": null,
   "id": "7fb33864-32dd-42e3-a3fb-d84060a63282",
   "metadata": {},
   "outputs": [],
   "source": [
    "ANS 1 : Using the ' Exception' class as the base class for custom exceptions ensures consistency, compatibility, clarity \n",
    "and extensibilty in exception handlig. It alligns your custom exceptions with establised conventions and provides a \n",
    "solid foundation for proper error handling and integration within your codebase and the boarder programming ecosystem."
   ]
  },
  {
   "cell_type": "code",
   "execution_count": null,
   "id": "f7cdd9b7-6e53-4cfd-b65e-397acf16fe31",
   "metadata": {},
   "outputs": [],
   "source": [
    "ANS 2 : "
   ]
  },
  {
   "cell_type": "code",
   "execution_count": null,
   "id": "fb005984-e0b8-4e8d-963c-529e4810ee58",
   "metadata": {},
   "outputs": [],
   "source": [
    "def print_exception_hierarchy(exception_class, indent=0):\n",
    "    print('' *indent + exception_class.__name__)\n",
    "    for subclass in exception_class.__subclassses__():\n",
    "        print_exception_hierarchy(subclass, indent + 4)\n",
    "print_exception_hierarchy(Exception)"
   ]
  },
  {
   "cell_type": "code",
   "execution_count": null,
   "id": "63e6b480-1b0a-47dd-8505-a7adcd4801f1",
   "metadata": {},
   "outputs": [],
   "source": [
    "ANS 3: Two commonly used exceptions derived from 'ArithmeticError' are 'ZeroDivisionError' and 'OverflowError'.\n",
    "1. ZeroDivisionError: This exception is raised when division or modulo operation is performed with zero as a divisor."
   ]
  },
  {
   "cell_type": "code",
   "execution_count": 3,
   "id": "ce8e2979-fa1a-4d91-a3a5-7ea417d1bd8f",
   "metadata": {},
   "outputs": [
    {
     "name": "stdout",
     "output_type": "stream",
     "text": [
      "Division by zero is not allowed division by zero\n"
     ]
    }
   ],
   "source": [
    "\n",
    "\n",
    "try:\n",
    "    result = 8/0\n",
    "except ZeroDivisionError as e:\n",
    "    print(\"Division by zero is not allowed\" , e)"
   ]
  },
  {
   "cell_type": "code",
   "execution_count": null,
   "id": "cc0e49b8-3c96-44ae-b419-81ece9549d5e",
   "metadata": {},
   "outputs": [],
   "source": [
    "2. OverflowError: This exception is raised when the result of an arithmetic operation is too large to be represented\n",
    "within the available numeric type.\n",
    "    "
   ]
  },
  {
   "cell_type": "code",
   "execution_count": 4,
   "id": "32118f31-8b0e-40a6-921f-e6f29ee00cd1",
   "metadata": {},
   "outputs": [],
   "source": [
    "import sys\n",
    "try:\n",
    "    result = sys.maxsize + 1\n",
    "except OverflowError as e:\n",
    "    print(\"The result of the operation exceeds the maximum value \" , e)"
   ]
  },
  {
   "cell_type": "code",
   "execution_count": null,
   "id": "981023c5-4af6-4109-ad60-d1c74f5cb107",
   "metadata": {},
   "outputs": [],
   "source": [
    "ANS 4: The LookupError class is a base class for exceptions that occur when a lookup or indexing operation fails. It \n",
    "serves as a superclass for exceptions like 'KeyError' and 'IndexError' on Python.\n",
    "1. KeyError : This exception is raised when a dictionary key or a set element is not found."
   ]
  },
  {
   "cell_type": "code",
   "execution_count": null,
   "id": "eb2dfa5a-0a86-40df-b1a4-98af4337105c",
   "metadata": {},
   "outputs": [],
   "source": [
    "import logging\n",
    "logging.basicConfig(fileanme = \"key.log\" , level = logging.ERROR)\n",
    "try:\n",
    "    my_dict = {'a' : 1, 'b' : 2}\n",
    "    value = my_dict['c']\n",
    "except KeyError as e:\n",
    "    logging.error(\"Error: key '{e.args[0]}' not founf=din the dictionary.\",e)"
   ]
  },
  {
   "cell_type": "code",
   "execution_count": null,
   "id": "cd295beb-9fff-41dd-906a-c48ab70e3648",
   "metadata": {},
   "outputs": [],
   "source": [
    "2. IndexError: This exception is raised when an index is out of range in a sequence."
   ]
  },
  {
   "cell_type": "code",
   "execution_count": null,
   "id": "d736b139-c4bc-4f74-b089-e29cbdc4ba5b",
   "metadata": {},
   "outputs": [],
   "source": [
    "import logging\n",
    "logging.basicConfig(fileanme = \"index.log\" , level = logging.ERROR)\n",
    "try:\n",
    "    my_list=[1,2,3]\n",
    "    value = my_list[3]\n",
    "except IndexError as e :\n",
    "    logging.error(\"Error: Index out of range \",e)"
   ]
  },
  {
   "cell_type": "code",
   "execution_count": null,
   "id": "cae04239-357e-44fb-9bb4-9f1c46e2d812",
   "metadata": {},
   "outputs": [],
   "source": [
    "ANS 5: 'ImportError' is an exception that is raised when an import statement fails to import a module or when there is an \n",
    "issue with importing a module. \n",
    "'ModuleNotFoundError' is a subclass of 'ImportError' that specifically indicates that a module could not be found during \n",
    "the import process."
   ]
  },
  {
   "cell_type": "code",
   "execution_count": null,
   "id": "f2ea337a-3a1b-4e7c-b43f-fcacd4ff597f",
   "metadata": {},
   "outputs": [],
   "source": [
    "ANS 6: Here are some best practices for exception handling :\n",
    "    1. catch only the soecific exceptions that you expect and know how to handle. This helps to avoid catching and \n",
    "    suppressing unintended exceptions and allows for more targeted error handling.\n",
    "    2. use seperate except blocks to handle different exceptions individually.\n",
    "    3.when appropraite, use a finally block to ensure that certain code executes regardless of whether an exception occurs\n",
    "    4.use a logging framework or error reporting mechanism to log or report exceptions. This helps in identifying and \n",
    "    diagnosing issues during dovolepment and production.\n",
    "    5.if an exception cannot be fully handled or requires higher level handling, consider reraising the exception using \n",
    "    raise statement without n argument. This allows the exception to propogate up the call stack for further handling."
   ]
  }
 ],
 "metadata": {
  "kernelspec": {
   "display_name": "Python 3 (ipykernel)",
   "language": "python",
   "name": "python3"
  },
  "language_info": {
   "codemirror_mode": {
    "name": "ipython",
    "version": 3
   },
   "file_extension": ".py",
   "mimetype": "text/x-python",
   "name": "python",
   "nbconvert_exporter": "python",
   "pygments_lexer": "ipython3",
   "version": "3.10.8"
  }
 },
 "nbformat": 4,
 "nbformat_minor": 5
}

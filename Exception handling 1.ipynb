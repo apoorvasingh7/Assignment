{
 "cells": [
  {
   "cell_type": "code",
   "execution_count": null,
   "id": "a68b4f87-26c1-4a41-b492-84c440243c43",
   "metadata": {},
   "outputs": [],
   "source": [
    "ANS 1: An exception is an event that occurs during the execution of a program that disrupts the normal flow of the program's \n",
    "instructions. When an exception is raised, the program stops its normal execution and jumps to a special block of code called \n",
    "an exception handler. \n",
    "exceptions are used to handle various types of errors or exceptional conditions that can occur during the execution of a \n",
    "program. Some common types of exceptions in Python include 'TypeError' , 'ValueError', ' FileNotFoundError','ZeroDivisionError'\n",
    "and 'IndexError', among others.\n",
    "On the other hand, Syntax errors are mistakes in the code's structure or syntax that prevent the program from being parsed or \n",
    "compiled correctly. These errors occur when the code violates the rules of the programming language, such as misspelling a \n",
    "keyword, forgetting a required punctuation mark, or using incorrect indentation. "
   ]
  },
  {
   "cell_type": "code",
   "execution_count": null,
   "id": "dee58d79-6a27-4fbd-84c0-40d4a94b75cb",
   "metadata": {},
   "outputs": [],
   "source": [
    "ANS 2: When an exception is not handled in a program, it leads to an abnormal termination of the program. The default behaviour\n",
    "is for the program to display an error message traceback, which shows te type of exception raised, the line of code where it \n",
    "occured, and the call stack leading up to exception. This traceback information helps in identifying the cause of the exception\n",
    "and debugging the program."
   ]
  },
  {
   "cell_type": "code",
   "execution_count": 2,
   "id": "1e090021-c69c-4571-822f-d103ab7141cd",
   "metadata": {},
   "outputs": [
    {
     "ename": "ZeroDivisionError",
     "evalue": "division by zero",
     "output_type": "error",
     "traceback": [
      "\u001b[0;31m---------------------------------------------------------------------------\u001b[0m",
      "\u001b[0;31mZeroDivisionError\u001b[0m                         Traceback (most recent call last)",
      "Cell \u001b[0;32mIn[2], line 4\u001b[0m\n\u001b[1;32m      2\u001b[0m     result \u001b[38;5;241m=\u001b[39m a\u001b[38;5;241m/\u001b[39mb\n\u001b[1;32m      3\u001b[0m     \u001b[38;5;28;01mreturn\u001b[39;00m result\n\u001b[0;32m----> 4\u001b[0m \u001b[43mdivide_numbers\u001b[49m\u001b[43m(\u001b[49m\u001b[38;5;241;43m10\u001b[39;49m\u001b[43m,\u001b[49m\u001b[38;5;241;43m0\u001b[39;49m\u001b[43m)\u001b[49m\n",
      "Cell \u001b[0;32mIn[2], line 2\u001b[0m, in \u001b[0;36mdivide_numbers\u001b[0;34m(a, b)\u001b[0m\n\u001b[1;32m      1\u001b[0m \u001b[38;5;28;01mdef\u001b[39;00m \u001b[38;5;21mdivide_numbers\u001b[39m(a,b):\n\u001b[0;32m----> 2\u001b[0m     result \u001b[38;5;241m=\u001b[39m \u001b[43ma\u001b[49m\u001b[38;5;241;43m/\u001b[39;49m\u001b[43mb\u001b[49m\n\u001b[1;32m      3\u001b[0m     \u001b[38;5;28;01mreturn\u001b[39;00m result\n",
      "\u001b[0;31mZeroDivisionError\u001b[0m: division by zero"
     ]
    }
   ],
   "source": [
    "def divide_numbers(a,b):\n",
    "    result = a/b\n",
    "    return result\n",
    "divide_numbers(10,0)"
   ]
  },
  {
   "cell_type": "code",
   "execution_count": null,
   "id": "76efaff5-b11a-4fd1-9878-6b3c9c09d440",
   "metadata": {},
   "outputs": [],
   "source": [
    "ANS 3: The try-except statement is used to catch and handle exceptions. The try block contains the code that might raise an \n",
    "exception and the except block specifies the code to be executed if a specific exception is raised."
   ]
  },
  {
   "cell_type": "code",
   "execution_count": 3,
   "id": "853d0e22-8768-4891-a978-dd06ada72cd6",
   "metadata": {},
   "outputs": [
    {
     "name": "stdout",
     "output_type": "stream",
     "text": [
      "The result of division is: 5.0\n",
      "Error:Division by zero is not allowed\n"
     ]
    }
   ],
   "source": [
    "def divide_numbers(a,b):\n",
    "    try:\n",
    "        result = a/b\n",
    "        print(\"The result of division is:\",result)\n",
    "    except ZeroDivisionError:\n",
    "        print(\"Error:Division by zero is not allowed\")\n",
    "divide_numbers(10,2)\n",
    "divide_numbers(10,0)"
   ]
  },
  {
   "cell_type": "code",
   "execution_count": null,
   "id": "1c72d439-a26b-4fcf-a0e4-f4a814d096ea",
   "metadata": {},
   "outputs": [],
   "source": [
    "ANS 4: The try statement is used to enclose the code that might raise an exception. It is followed by an optional else block\n",
    "and a finally block.\n",
    "The else block is executed if no exceptions are raised in the try block. It is typically used to specify code that should run\n",
    "only when the try block is executed successfully.\n",
    "The finally block is executed regardless of whether an exception was raised or not. It is commonly used to specify code that\n",
    "should always run, such as closing files or releasing resources."
   ]
  },
  {
   "cell_type": "code",
   "execution_count": 5,
   "id": "3afd6c95-4201-45a4-a8b0-2354b704849e",
   "metadata": {},
   "outputs": [
    {
     "name": "stdout",
     "output_type": "stream",
     "text": [
      "The result of division is: 5.0\n",
      "Executing the finally block\n",
      "Error:Division by zero is not allowed\n",
      "Executing the finally block\n"
     ]
    }
   ],
   "source": [
    "def divide_numbers(a,b):\n",
    "    try:\n",
    "        result = a/b\n",
    "    except ZeroDivisionError:\n",
    "        print(\"Error:Division by zero is not allowed\")\n",
    "    else:\n",
    "        print(\"The result of division is:\", result)\n",
    "    finally:\n",
    "        print(\"Executing the finally block\")\n",
    "divide_numbers(10,2)\n",
    "divide_numbers(10,0)"
   ]
  },
  {
   "cell_type": "code",
   "execution_count": null,
   "id": "5eb59c87-0c02-4623-9d39-cd1a3f2baf5a",
   "metadata": {},
   "outputs": [],
   "source": [
    "The raise statement is used to explicitly raise an exception in Python. It allows you to throw custom exceptions or re-raise \n",
    "exceptions that have been caught."
   ]
  },
  {
   "cell_type": "code",
   "execution_count": 6,
   "id": "84010e68-b3e5-4d32-9ef9-d62a5b3e7d60",
   "metadata": {},
   "outputs": [
    {
     "name": "stdout",
     "output_type": "stream",
     "text": [
      "You must be atleast 18 years old\n"
     ]
    }
   ],
   "source": [
    "def check_age(age):\n",
    "    if age < 0 :\n",
    "        raise ValueError(\"Age cannot be negative\")\n",
    "    elif age < 18:\n",
    "        raise ValueError(\"You must be atleast 18 years old\")\n",
    "    else:\n",
    "        print(\"You are eligible\")\n",
    "try:\n",
    "    check_age(15)\n",
    "except ValueError as e:\n",
    "    print(e)"
   ]
  },
  {
   "cell_type": "code",
   "execution_count": null,
   "id": "7c5cbda8-ebce-434c-8fee-1c9b8b08a9b6",
   "metadata": {},
   "outputs": [],
   "source": [
    "ANS 5: Custom exceptions are user defined exception classes that we can create to represent specific exceptional conditions or\n",
    "errors in our code. These exceptions extend the built-in Exception class or one of its subclasses, allowing you to define your\n",
    "own exception hierarchy.\n",
    "Custom exceptions are useful when you want to handle specific exceptionals situations in a more granular way or when you need \n",
    "to differentiate your exceptions from the built-in exceptions provided by python. They provide a structured way to raise and \n",
    "handle specific types of errors within your codebase."
   ]
  },
  {
   "cell_type": "code",
   "execution_count": 9,
   "id": "25b77368-8887-4e5e-ab94-3661f331f0e5",
   "metadata": {},
   "outputs": [
    {
     "name": "stdout",
     "output_type": "stream",
     "text": [
      "withdrawal error insufficient funds for withdrawal\n",
      "withdrawal successful\n"
     ]
    }
   ],
   "source": [
    "class withdrawalerror(Exception):\n",
    "    pass\n",
    "class insufficientfundserror(withdrawalerror):\n",
    "    pass\n",
    "def make_withdrawal(amount,balance):\n",
    "    try:\n",
    "        if amount > balance:\n",
    "            raise insufficientfundserror(\"insufficient funds for withdrawal\")\n",
    "        else:\n",
    "            print(\"withdrawal successful\")\n",
    "    except withdrawalerror as e:\n",
    "        print(\"withdrawal error\",e)\n",
    "make_withdrawal(500,200)\n",
    "make_withdrawal(100,500)"
   ]
  },
  {
   "cell_type": "code",
   "execution_count": null,
   "id": "9c1c1682-92cb-4498-966e-9a66c5aa9dd8",
   "metadata": {},
   "outputs": [],
   "source": [
    "ANS 6:"
   ]
  },
  {
   "cell_type": "code",
   "execution_count": 10,
   "id": "2784c389-be29-4e98-9950-075fb268627a",
   "metadata": {},
   "outputs": [
    {
     "name": "stdout",
     "output_type": "stream",
     "text": [
      "invalid input error: Invalid input. Expected an integer\n",
      "input processing successfull\n"
     ]
    }
   ],
   "source": [
    "class invalidinputerror(Exception):\n",
    "    pass\n",
    "def process_input(data):\n",
    "    try:\n",
    "        if not isinstance(data,int):\n",
    "            raise invalidinputerror(\"Invalid input. Expected an integer\")\n",
    "        else:\n",
    "            print(\"input processing successfull\")\n",
    "    except invalidinputerror as e:\n",
    "        print(\"invalid input error:\",e)\n",
    "process_input(\"abc\")\n",
    "process_input(123)"
   ]
  },
  {
   "cell_type": "code",
   "execution_count": null,
   "id": "cba5afbb-8fd4-48aa-9bd7-f50df195ed6a",
   "metadata": {},
   "outputs": [],
   "source": []
  }
 ],
 "metadata": {
  "kernelspec": {
   "display_name": "Python 3 (ipykernel)",
   "language": "python",
   "name": "python3"
  },
  "language_info": {
   "codemirror_mode": {
    "name": "ipython",
    "version": 3
   },
   "file_extension": ".py",
   "mimetype": "text/x-python",
   "name": "python",
   "nbconvert_exporter": "python",
   "pygments_lexer": "ipython3",
   "version": "3.10.8"
  }
 },
 "nbformat": 4,
 "nbformat_minor": 5
}

{
 "cells": [
  {
   "cell_type": "code",
   "execution_count": null,
   "id": "97edde76-1f6b-4bfb-9255-990bdc805c97",
   "metadata": {},
   "outputs": [],
   "source": [
    "ANS 1:Here's a basic example of how we can create a simple Bokeh plot:\n",
    "1. Install Bokeh\n",
    "pip install bokeh\n",
    "2.Import Required Modules:\n",
    "from bokeh.plotting import figure, show\n",
    "from bokeh.io import output_notebook \n",
    "3.Prepare Data:\n",
    "x = [1, 2, 3, 4, 5]\n",
    "y = [6, 7, 2, 4, 5]\n",
    "4.Create a Figure:\n",
    "plot = figure(title=\"Simple Bokeh Plot\", x_axis_label=\"X-axis\", y_axis_label=\"Y-axis\")\n",
    "5.Add your data to the plot using the line glyph (we can also use other glyphs like circles, squares, etc.):\n",
    "plot.line(x, y, line_width=2)\n",
    "6.Finally, use the show function to display the plot. If we're using Jupyter Notebook, you can use output_notebook() to\n",
    "display the plot directly in the notebook:\n",
    "output_notebook() \n",
    "show(plot)"
   ]
  },
  {
   "cell_type": "code",
   "execution_count": null,
   "id": "569d7d73-a0b0-4641-a737-427e85bdc04e",
   "metadata": {},
   "outputs": [],
   "source": [
    "ANS 2: Glyphs in Bokeh are the visual building blocks used to create different types of data visualizations, such as lines,\n",
    "circles, rectangles, and more. They represent the individual data points or data shapes that make up a plot. We can use \n",
    "glyphs to customize the appearance and style of our data points in a Bokeh plot.\n",
    "Here's how we can add glyphs to a Bokeh plot using an example:\n",
    "Import the necessary modules from Bokeh\n",
    "Generate some random data for the x and y coordinates of the circles\n",
    "Create a figure object to hold your plot\n",
    "Use the circle glyph to add circles to the plot.\n",
    "Show the plot using the show function. If we're using a Jupyter Notebook, we can use output_notebook() to display the plot\n",
    "directly in the notebook.\n",
    "\n",
    "from bokeh.plotting import figure, show , output_file\n",
    "from bokeh.io import outbook_notebook\n",
    "\n",
    "output_file('random.html')\n",
    "p = figure(title = \"plot\")\n",
    "x = [1,2,3,4,5]\n",
    "y=[8,4,5,8,9]\n",
    "p.xaxis.axis_label=\"x axis\"\n",
    "p.yaxis.axis_label=\"y axis\"\n",
    "p.circle(x,y)\n",
    "show(p)"
   ]
  },
  {
   "cell_type": "code",
   "execution_count": null,
   "id": "f0655fb9-6389-43ab-802e-55c119d432d0",
   "metadata": {},
   "outputs": [],
   "source": [
    "ANS 3: Customizing the appearance of a Bokeh plot involves modifying various attributes of the plot, axes, title, and legends.\n",
    "Axes Customization: We adjusted the font size of the axis labels using 'axis_label_text_font_size'.\n",
    "Title Customization: We customized the font size and alignment of the plot title using 'title.text_font_size' and \n",
    "'title.align'.\n",
    "Legend Customization: We added a legend label to the circle glyph using 'legend_label'. We also customized the title and label\n",
    "font size of the legend using 'legend.title' and 'legend.label_text_font_size'. The legend position was set to the top-right\n",
    "using 'legend.location'."
   ]
  },
  {
   "cell_type": "code",
   "execution_count": null,
   "id": "8e89da68-805f-484f-999c-0f680f36a9f0",
   "metadata": {},
   "outputs": [],
   "source": [
    "ANS 4:The Bokeh server is a component of the Bokeh library that allows you to create and deploy interactive web applications \n",
    "with real-time updates. It enables you to build dynamic and interactive plots, dashboards, and data-driven applications that \n",
    "can respond to user interactions and update in real time without the need to regenerate or reload the entire plot or page.\n",
    "If we haven't already, install Bokeh using pip\n",
    "Create a Python script (let's call it app.py)\n",
    "Open a terminal and navigate to the directory where app.py is located. Run the Bokeh server using the command\n",
    "bokeh serve --show app.py                        "
   ]
  },
  {
   "cell_type": "code",
   "execution_count": null,
   "id": "f4ed17cb-56f9-4cc1-a5d8-4cd408c6156c",
   "metadata": {},
   "outputs": [],
   "source": [
    "ANS 5: Embedding a Bokeh plot into a web page or dashboard using Flask or Django involves creating a web application that\n",
    "serves the plot as part of its content.\n",
    "1. Embedding Bokeh Plot in Flask:\n",
    "    1.Install Flask and Bokeh\n",
    "    2.Create a Python file\n",
    "    3.Create an 'index.html' file in a folder named 'templates' in our project directory\n",
    "    4.Run the Flask application using the following command:\n",
    "        python app.py\n",
    "Open a browser and navigate to 'http://localhost:5000'. We can see the Bokeh plot embedded within the web page.\n",
    "\n",
    "2. Embedding Bokeh Plot in Django:\n",
    "    1.Install Django and Bokeh\n",
    "    2.Create a new Django project and a new app within the project\n",
    "    3.In the 'urls.py' of our app, define a URL pattern for our Bokeh plot\n",
    "    4.In the 'views.py' of our app, define a view function that renders the template\n",
    "    5.Create a 'bokeh_plot.html' file in the templates directory of our app\n",
    "    6.Start the Django development server using the command:\n",
    "        python manage.py runserver\n",
    "Navigate to 'http://localhost:8000' in our browser to see the Bokeh plot embedded within the web page.\n"
   ]
  }
 ],
 "metadata": {
  "kernelspec": {
   "display_name": "Python 3 (ipykernel)",
   "language": "python",
   "name": "python3"
  },
  "language_info": {
   "codemirror_mode": {
    "name": "ipython",
    "version": 3
   },
   "file_extension": ".py",
   "mimetype": "text/x-python",
   "name": "python",
   "nbconvert_exporter": "python",
   "pygments_lexer": "ipython3",
   "version": "3.10.8"
  }
 },
 "nbformat": 4,
 "nbformat_minor": 5
}

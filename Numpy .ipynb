{
 "cells": [
  {
   "cell_type": "code",
   "execution_count": null,
   "id": "ba927659-8dfb-4f6d-a054-d22220b2f23e",
   "metadata": {},
   "outputs": [],
   "source": [
    "ANS 1: Yes, there is a difference in the data type of the variables list_ and array_list. The list_ variable is a Python\n",
    "list, while the array_list variable is a NumPy array.\n",
    "We can use type() function to print the data types of both variables.Here's a code to do that"
   ]
  },
  {
   "cell_type": "code",
   "execution_count": 1,
   "id": "de07cc67-7dd0-4165-b0b3-a9cdf963561a",
   "metadata": {},
   "outputs": [
    {
     "name": "stdout",
     "output_type": "stream",
     "text": [
      "Data type of list_: <class 'list'>\n",
      "Data type of array_list: <class 'numpy.ndarray'>\n"
     ]
    }
   ],
   "source": [
    "import numpy as np\n",
    "\n",
    "list_ =['1','2','3','4','5']\n",
    "array_list = np.array(object=list_)\n",
    "\n",
    "print(\"Data type of list_:\" , type(list_))\n",
    "print(\"Data type of array_list:\" , type(array_list))"
   ]
  },
  {
   "cell_type": "code",
   "execution_count": null,
   "id": "3143e40f-4986-4ecb-b8eb-47b8dc8d4ad1",
   "metadata": {},
   "outputs": [],
   "source": [
    "ANS 2:"
   ]
  },
  {
   "cell_type": "code",
   "execution_count": 2,
   "id": "fcc9f3af-ee43-431f-8b33-d79b8b83928e",
   "metadata": {},
   "outputs": [
    {
     "name": "stdout",
     "output_type": "stream",
     "text": [
      "Data type of each element in list_:\n",
      "<class 'str'>\n",
      "<class 'str'>\n",
      "<class 'str'>\n",
      "<class 'str'>\n",
      "<class 'str'>\n",
      "Data type of each element in array_list:\n",
      "<class 'numpy.str_'>\n",
      "<class 'numpy.str_'>\n",
      "<class 'numpy.str_'>\n",
      "<class 'numpy.str_'>\n",
      "<class 'numpy.str_'>\n"
     ]
    }
   ],
   "source": [
    "import numpy as np\n",
    "\n",
    "list_ = ['1','2','3','4','5']\n",
    "array_list  = np.array(object=list_)\n",
    "\n",
    "print(\"Data type of each element in list_:\")\n",
    "for i in list_:\n",
    "    print(type(i))\n",
    "    \n",
    "print(\"Data type of each element in array_list:\")\n",
    "for i in array_list:\n",
    "    print(type(i))"
   ]
  },
  {
   "cell_type": "code",
   "execution_count": null,
   "id": "cb58cf37-97df-465b-89d4-7f855ec73b8e",
   "metadata": {},
   "outputs": [],
   "source": [
    "ANS 3: Yes,there will be a difference in the data type of the elements present in the varaibles list_ and array_list \n",
    "after using the 'dtype = int' parameter while creating the NumPy array 'array_list' will be converted to integers."
   ]
  },
  {
   "cell_type": "code",
   "execution_count": 3,
   "id": "5ecba9f5-0918-4531-b2f4-69bca26cb051",
   "metadata": {},
   "outputs": [
    {
     "name": "stdout",
     "output_type": "stream",
     "text": [
      "Data type of each element in list_:\n",
      "<class 'str'>\n",
      "<class 'str'>\n",
      "<class 'str'>\n",
      "<class 'str'>\n",
      "<class 'str'>\n",
      "Data type of each element in array_list:\n",
      "<class 'numpy.int64'>\n",
      "<class 'numpy.int64'>\n",
      "<class 'numpy.int64'>\n",
      "<class 'numpy.int64'>\n",
      "<class 'numpy.int64'>\n"
     ]
    }
   ],
   "source": [
    "import numpy as np\n",
    "\n",
    "list_ = ['1','2','3','4','5']\n",
    "array_list = np.array(object = list_ , dtype=int)\n",
    "print(\"Data type of each element in list_:\")\n",
    "for i in list_:\n",
    "    print(type(i))\n",
    "    \n",
    "print(\"Data type of each element in array_list:\")\n",
    "for i in array_list:\n",
    "    print(type(i))"
   ]
  },
  {
   "cell_type": "code",
   "execution_count": null,
   "id": "f1b7fef6-bf4e-4bb8-976d-6d5c82ff21e3",
   "metadata": {},
   "outputs": [],
   "source": [
    "ANS 4:"
   ]
  },
  {
   "cell_type": "code",
   "execution_count": 4,
   "id": "c8a5e5c2-66d0-490f-a41e-217d2450f830",
   "metadata": {},
   "outputs": [
    {
     "name": "stdout",
     "output_type": "stream",
     "text": [
      "Shape of num list: (2, 3)\n",
      "Size of num array: 6\n"
     ]
    }
   ],
   "source": [
    "import numpy as np\n",
    "num_list = [[1,2,3],[4,5,6]]\n",
    "num_array = np.array(object=num_list)\n",
    "shape = num_array.shape\n",
    "size = num_array.size\n",
    "print(\"Shape of num list:\" , shape)\n",
    "print(\"Size of num array:\" , size)"
   ]
  },
  {
   "cell_type": "code",
   "execution_count": null,
   "id": "84877ce5-5db5-4983-830f-7d3de3035a91",
   "metadata": {},
   "outputs": [],
   "source": [
    "ANS 5 :"
   ]
  },
  {
   "cell_type": "code",
   "execution_count": 5,
   "id": "3ec1ae6a-c29e-4fe4-a701-fc26c595b959",
   "metadata": {},
   "outputs": [
    {
     "name": "stdout",
     "output_type": "stream",
     "text": [
      "[[0. 0. 0.]\n",
      " [0. 0. 0.]\n",
      " [0. 0. 0.]]\n"
     ]
    }
   ],
   "source": [
    "import numpy as np\n",
    "\n",
    "zero_matrix = np.zeros((3,3))\n",
    "print(zero_matrix)"
   ]
  },
  {
   "cell_type": "code",
   "execution_count": null,
   "id": "8b72b3e0-c41b-4457-9005-0e17556f8753",
   "metadata": {},
   "outputs": [],
   "source": [
    "ANS 6:"
   ]
  },
  {
   "cell_type": "code",
   "execution_count": 7,
   "id": "23e0be01-aadd-4d15-96e5-9972e933ee1b",
   "metadata": {},
   "outputs": [
    {
     "name": "stdout",
     "output_type": "stream",
     "text": [
      "[[1. 0. 0. 0. 0.]\n",
      " [0. 1. 0. 0. 0.]\n",
      " [0. 0. 1. 0. 0.]\n",
      " [0. 0. 0. 1. 0.]\n",
      " [0. 0. 0. 0. 1.]]\n"
     ]
    }
   ],
   "source": [
    "import numpy as np\n",
    "\n",
    "idy_matrix = np.eye(5)\n",
    "print(idy_matrix)"
   ]
  },
  {
   "cell_type": "code",
   "execution_count": null,
   "id": "1a2b39c4-aa3a-4865-a4eb-2f57b7454428",
   "metadata": {},
   "outputs": [],
   "source": []
  }
 ],
 "metadata": {
  "kernelspec": {
   "display_name": "Python 3 (ipykernel)",
   "language": "python",
   "name": "python3"
  },
  "language_info": {
   "codemirror_mode": {
    "name": "ipython",
    "version": 3
   },
   "file_extension": ".py",
   "mimetype": "text/x-python",
   "name": "python",
   "nbconvert_exporter": "python",
   "pygments_lexer": "ipython3",
   "version": "3.10.8"
  }
 },
 "nbformat": 4,
 "nbformat_minor": 5
}

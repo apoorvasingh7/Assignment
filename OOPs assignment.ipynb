{
 "cells": [
  {
   "cell_type": "code",
   "execution_count": null,
   "id": "8fcc886d-ffa9-4e7f-831b-bf2225d2a724",
   "metadata": {},
   "outputs": [],
   "source": [
    "ANS 1:"
   ]
  },
  {
   "cell_type": "code",
   "execution_count": null,
   "id": "59b43403-db33-4d7e-bb21-4ad9c9bbf0d8",
   "metadata": {},
   "outputs": [],
   "source": [
    "The open() function is used to open a file.\n",
    "the open() function takes two arguments: the first argument is the file name and the second argument is the mode in which\n",
    "the file should be opened.\n",
    "The different modes of opening a file in Python are:\n",
    "    1. 'r' (read-only): This mode is used to open a file for raeding. The file pointer is placed at the beginning of the\n",
    "    file, and if the file does not exist, an eroor is raised.\n",
    "    2. 'w' (write): This mode is used to open a file for wriring. If the file already exist, its contents are truncated.\n",
    "    If the file does not exist, a new file is created.\n",
    "    3. 'a' (append): This mode is used to open a file for appending. The file pointer is placed at the end of the file \n",
    "    and if the file does not exist a new file is created.\n",
    "    4. 'x' (exclusive creation): This mode is used to create a file. If the file already exist, an error is raised.\n",
    "    5. 'b' (binary): This mode is used o open a file in binary mode.\n",
    "    6. 't' (text mode): This mode is used to open a file in text mode(default mode).\n",
    "    "
   ]
  },
  {
   "cell_type": "code",
   "execution_count": null,
   "id": "f949c7de-b87d-4707-bf08-6b7e9244b986",
   "metadata": {},
   "outputs": [],
   "source": [
    "ANS 2:"
   ]
  },
  {
   "cell_type": "code",
   "execution_count": null,
   "id": "cfd4c645-33a6-4ab3-90b2-7e32e9745cba",
   "metadata": {},
   "outputs": [],
   "source": [
    "The close() function is used to close a file after it has been opened in a program. This function is important because\n",
    "it releases the resources used by the file object, such as system memory, file discriptors, an dother system resources.\n",
    "If a file is not closed properly, it can laed to resourse leaks and cause problems in the program an the system it is \n",
    "running on.\n",
    "When a file is opened in a program, the operating system assigns resources to the file object. These resources are used \n",
    "to buffer the data read from or written to the file and to manage the file descriptor, which is a unique identifier for \n",
    "the file object. If the file is not closed properly, the operating system will continue to holdtheseresources until the \n",
    "program terminates, which can lead to memory leaks and other issues."
   ]
  },
  {
   "cell_type": "code",
   "execution_count": null,
   "id": "4b9b0353-91fb-4217-9626-56cb5073b71d",
   "metadata": {},
   "outputs": [],
   "source": [
    "ANS 3:"
   ]
  },
  {
   "cell_type": "code",
   "execution_count": 1,
   "id": "c13872dc-2dd4-4a8c-9f42-40432d770e7b",
   "metadata": {},
   "outputs": [
    {
     "name": "stdout",
     "output_type": "stream",
     "text": [
      "I want to become a Data Scientist\n"
     ]
    }
   ],
   "source": [
    "with open('data_scientist.txt','w') as file:\n",
    "    file.write(\"I want to become a Data Scientist\")\n",
    "with open('data_scientist.txt','r') as file:\n",
    "    content = file.read()\n",
    "print(content)"
   ]
  },
  {
   "cell_type": "code",
   "execution_count": null,
   "id": "82eb8b06-2381-452d-8311-9944e88d533c",
   "metadata": {},
   "outputs": [],
   "source": [
    "ANS 4:"
   ]
  },
  {
   "cell_type": "code",
   "execution_count": null,
   "id": "7c4b2a61-95e4-4977-bff8-b5cbf65cc22a",
   "metadata": {},
   "outputs": [],
   "source": [
    "1. read() method reads the entire content of a file as a single string."
   ]
  },
  {
   "cell_type": "code",
   "execution_count": null,
   "id": "833b667c-6594-4da2-83d7-0fab99759767",
   "metadata": {},
   "outputs": [],
   "source": [
    "with open('example.txt','r') as file:\n",
    "    content = file.raed()\n",
    "print(content)"
   ]
  },
  {
   "cell_type": "code",
   "execution_count": null,
   "id": "1a61cb45-ef66-4e87-ba72-fbdf9fce7848",
   "metadata": {},
   "outputs": [],
   "source": [
    "2. readline() method reads the file line by line and retutrns the next line each time it is called.\n",
    "\n",
    "with open('example.txt','r') as file:\n",
    "    line1 = file.readline()\n",
    "    line2 = file.raedline()\n",
    "print(line1)\n",
    "print(line2)"
   ]
  },
  {
   "cell_type": "code",
   "execution_count": null,
   "id": "7d89d835-4097-4b59-a1e5-d816cb84478a",
   "metadata": {},
   "outputs": [],
   "source": [
    "3. readlines() method reads the entire file and return a list of strings, where each string in the list reperesents a \n",
    "line of the file.\n",
    "\n",
    "with open('example.txt','r') as file:\n",
    "    \n",
    "    lines = file.readlines()\n",
    "print(lines)"
   ]
  },
  {
   "cell_type": "code",
   "execution_count": null,
   "id": "43424535-b9a7-4203-8f05-f15df3a3b55d",
   "metadata": {},
   "outputs": [],
   "source": [
    "ANS 5:"
   ]
  },
  {
   "cell_type": "code",
   "execution_count": null,
   "id": "9941f465-d375-4675-a2ea-12847f98978b",
   "metadata": {},
   "outputs": [],
   "source": [
    "When using the with statement, the code block is excuted within a context, an dthe resource is automatically relwased or closed\n",
    "when the block is exited. This ensures that the resource is always properly closed or released, even if an exception occurs \n",
    "within the block.\n",
    "The open() function is used to open a file and returns a file object. When using open() without the with statement, the file \n",
    "object remains open until it is explicitly closed using the close() statement.\n",
    "Using with statement together with open() provides a number of advantages:\n",
    "    1. It simplifies the code by eliminating the need to expliciyly closed the file using the closed() method.\n",
    "    2. It ensures that the file is always closed, even if an error or exception occurswithin the code block.\n",
    "    3. It reduces the risk of resource leaks or other errors that can occur when files are not properly closed."
   ]
  },
  {
   "cell_type": "code",
   "execution_count": null,
   "id": "ef8a2582-284b-413e-ae2e-2cedf37e27bb",
   "metadata": {},
   "outputs": [],
   "source": [
    "ANS 6:"
   ]
  },
  {
   "cell_type": "code",
   "execution_count": null,
   "id": "5e33a404-be54-41d4-b17a-5f9027fe9bdc",
   "metadata": {},
   "outputs": [],
   "source": [
    "The 'write()' function writes a string to a file. If the file does not exist, it is created.If it already exist, the\n",
    "existing content is overwritten by the new content. The write() function returns the number of characters written to the\n",
    "file."
   ]
  },
  {
   "cell_type": "code",
   "execution_count": 1,
   "id": "02c639a6-9d14-43c9-8bc4-0fb6171b96ef",
   "metadata": {},
   "outputs": [],
   "source": [
    "file = open('example.txt','w')\n",
    "file.write('Hello,World!')\n",
    "file.close()"
   ]
  },
  {
   "cell_type": "code",
   "execution_count": null,
   "id": "38b8cc92-d588-4445-a025-c5b7794847a7",
   "metadata": {},
   "outputs": [],
   "source": [
    "The writelines() function is used to write a list of strings to a file. Each string in the list represents a line of text\n",
    "in the file. If the file does not exist, it is created. if it already exists, the existing content is overwritten by a\n",
    "new content."
   ]
  },
  {
   "cell_type": "code",
   "execution_count": 2,
   "id": "bcd45c3d-5b31-4cab-a206-a2a373b9c8ab",
   "metadata": {},
   "outputs": [],
   "source": [
    "file = open('example.txt','w')\n",
    "lines = ['Hello, World!\\n' , 'How are you']\n",
    "file.writelines(lines)\n",
    "file.close()"
   ]
  },
  {
   "cell_type": "code",
   "execution_count": null,
   "id": "25a15aad-5abe-4fde-89e3-1ac4ceea8ce9",
   "metadata": {},
   "outputs": [],
   "source": []
  }
 ],
 "metadata": {
  "kernelspec": {
   "display_name": "Python 3 (ipykernel)",
   "language": "python",
   "name": "python3"
  },
  "language_info": {
   "codemirror_mode": {
    "name": "ipython",
    "version": 3
   },
   "file_extension": ".py",
   "mimetype": "text/x-python",
   "name": "python",
   "nbconvert_exporter": "python",
   "pygments_lexer": "ipython3",
   "version": "3.10.8"
  }
 },
 "nbformat": 4,
 "nbformat_minor": 5
}

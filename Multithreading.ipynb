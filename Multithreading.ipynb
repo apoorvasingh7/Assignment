{
 "cells": [
  {
   "cell_type": "code",
   "execution_count": null,
   "id": "8f85ed92-bbe8-41fa-b1be-bc0552fab2cb",
   "metadata": {},
   "outputs": [],
   "source": [
    "ANS 1: Multithreading in python refers to the capability of a program to execute multiple thread simultaneously. A thread is a\n",
    "lightweight sub processthat can run concurrently with other threads within a process. Each thread represents a separate flow\n",
    "of execution, allowing multiple tasks to be performed simulateously.\n",
    "Multithreading is used to achieve parallelism or concurrent execution, particularly in scenarios where certain task can help \n",
    "improve the performance and efficiency of a program by allowing multiple parts of the code to execute concurrently.\n",
    "The module commonly used to handle threads in python is called 'threading'."
   ]
  },
  {
   "cell_type": "code",
   "execution_count": null,
   "id": "a99f22b9-f87a-4b2d-b78c-fb69293c51df",
   "metadata": {},
   "outputs": [],
   "source": [
    "ANS 2: The 'threading' module in python is used to handle threads and provides a high level interface for working with them. It\n",
    "offers functions, classes, and synchronization primitives to create,manage and control threads effectively.\n",
    "1. activeCount(): This function returns the number of Thread objects currently alive. It gives the count of all threads that \n",
    "have been created and have not yet finished their execution or been terminated.\n",
    "2. currentThread(): This function returns the Thread object corresponding to the current execution thread. It allows you to \n",
    "obtain a reference to the currently executing thread,which can be useful for various purposes. You can use the returned Thread\n",
    "object to access properties and methods related to the current thread, such as its name or identification number.\n",
    "3. enumerate(): This function returns a list of all Thread objects currently alive. It provides a convenient way to obtain \n",
    " references to all the active threads in a program.    "
   ]
  },
  {
   "cell_type": "code",
   "execution_count": null,
   "id": "07f3d900-4d54-4243-b95b-13c8e0974e90",
   "metadata": {},
   "outputs": [],
   "source": [
    "ANS 3: 1. 'run()': The 'run()' function is not a specific function in the threading module. Instead, it is a method that you\n",
    "can override in a custom thread class. When a thread object is created, ypu can define its behaviour by subclassing the Thread \n",
    "class and overriding the run method. The run() method contains the code that will be executed in the thread when it is started.\n",
    "You should provide the desired functionality within the run() method to specify what the thread should do. \n",
    "2. 'start()': The 'start()' function is used to start a thread's execution. It initiates the execution of the run() method in a\n",
    "separate thread of control. When start() is called, the thread enters the \"runnable\" state and the python interpreter schedules\n",
    "it to run when the CPU becomes available. It is important to note that start() can only be called once per thread object. If \n",
    "you attempt to starta thread that has been already started or terminated, it will raise a 'RuntimeError'.\n",
    "3. 'join()': The join() function is used to block the calling thread until the thread on which it is called has completed its\n",
    "execution. It allows for synchronization between threads, ensuring that the calling thread waits until the target thread \n",
    "finishes. By using join(), you can control the flow of execution and ensure that the main thread or other threads wait for a \n",
    "specific thread to complete before proceeding. Additionally you can specify a  timeout parameter to limite the waiting time.\n",
    "4.'isAlive()': The isAlive() function is used to check if a thred is currently active or alive. It returns a boolean value \n",
    "indicating whether the thread has finished execution or still running. If the thread is alive and executing 'isAlive()' will\n",
    "return 'True'. If the thread has terminated or hasn't been started yet, it will return 'False'. This function is useful for \n",
    "determining the status of a thread and making decision based on its current state."
   ]
  },
  {
   "cell_type": "code",
   "execution_count": null,
   "id": "aac9326d-80e6-42ef-a311-dcb1ffb2264b",
   "metadata": {},
   "outputs": [],
   "source": [
    "ANS 4:"
   ]
  },
  {
   "cell_type": "code",
   "execution_count": 3,
   "id": "b71620a0-c07f-4950-ae59-5a45de5177d0",
   "metadata": {},
   "outputs": [
    {
     "name": "stdout",
     "output_type": "stream",
     "text": [
      "Squares: [1, 4, 9, 16, 25]\n",
      "Cubes: [1, 8, 27, 64, 125]\n"
     ]
    }
   ],
   "source": [
    "import threading\n",
    "\n",
    "def print_squares(numbers):\n",
    "    squares= [num ** 2 for num in numbers]\n",
    "    print(\"Squares:\", squares)\n",
    "    \n",
    "def print_cubes(numbers):\n",
    "    cubes = [num ** 3 for num in numbers]\n",
    "    print(\"Cubes:\" , cubes)\n",
    "    \n",
    "numbers = [1,2,3,4,5]\n",
    "\n",
    "thread1 = threading.Thread(target = print_squares, args=(numbers,))\n",
    "thread1.start()\n",
    "\n",
    "thread2 = threading.Thread(target = print_cubes , args =(numbers,))\n",
    "thread2.start()\n",
    "\n",
    "thread1.join()\n",
    "thread2.join()"
   ]
  },
  {
   "cell_type": "code",
   "execution_count": null,
   "id": "e197e10f-b885-4361-b037-5a0e952a1dc0",
   "metadata": {},
   "outputs": [],
   "source": [
    "ANS 5: Advantages of Multithreading:\n",
    "    1. Multithreading allows for the execution of multiplr threads concurrently, which can lead to improved performance and \n",
    "    faster execution times. It enables task to run in parallel, taking advantage of modern multi-core processors.\n",
    "    2. Multithreadinf=g can enhance the responsiveness of an application by allowing it to remain active and responsive even \n",
    "    while performing time consuming operations. It ensures that the user interface remains smooth and interactive.\n",
    "    3.Threads within the same process share the same memory space, allowing for efficient communication and data sharing \n",
    "    between threads. This can lead to more efficient resource utilization and reduced memory consumption compared to using \n",
    "    multiple processes.\n",
    "    4. Multithreading can simplify the structure of a program by dividing complex tasks into smaller,more manageable threads. \n",
    "    This can make the code easier to understand,maintain and debug.\n",
    "Disadvantages of Multithreading:\n",
    "    1. Multithreading introduces additional complexity to the program. Synchronization and coordination between threads need to\n",
    "    be carefully managed to avoid issues such as raceconditions,deadlocks, and thread interference. Debugging multithreaded \n",
    "    programs can also be more challenging.\n",
    "    2. When multiple thread access shared resources simultaneously, there can be resource contentions. If not properly \n",
    "    synchronized, this can lead to issues like data corruption, inconsistents results, or unexpected behaviour. Careful \n",
    "    synchronization mechanismssuch as locks or semaphores are required to handle resource access.\n",
    "    3.Each thread within a process requires its own stack and program counter, which adds overhead in terms of memory usage. If\n",
    "    a program creates to many threads, it can consume significant memory resorces, potentially leading to performance\n",
    "    degradation or even resource exhaustion.\n",
    "    4. Debugging multithreaded programs can be more challenging compared to single-threaded programs. Issues such as race \n",
    "    conditions and deadlocks may only occur sporadiclly, making them harder to reproduce or diagnose. Debugging tools and \n",
    "    techniques specific to multithreading, like thread synchroniztion analysis and deadlock detection, may be required."
   ]
  },
  {
   "cell_type": "code",
   "execution_count": null,
   "id": "ea71093a-8788-4716-bdee-9568d4eec52f",
   "metadata": {},
   "outputs": [],
   "source": [
    "ANS 6: Deadlock: Deadlock is a situation where two or more threads are blocked indefinitely, each witing for the reource that\n",
    "another threads holds. In other words, it's a state of a program where threads are stuck and unable to proceed because they are\n",
    "all waiting for each other to release resources. Deadlocks can occur when four conditions are met simultaneosly:\n",
    "    Mutual exclusion: At least one resource must be held in anon shareable mode, meaning only one thread can access it at a\n",
    "    time.\n",
    "    Hold and wait: Athread holding a resource is waiting to acquire another resource currently held by other thread.\n",
    "    No preemption: Resources cannot be forcibly taken away from a thread, they can only be released voluntarily.\n",
    "    Circular wait: A cycle of threads exist, where each thread is waiting for a resource held by anothjer thread in the cycle.\n",
    "    \n",
    "Race conditions: A race condition occur when the behaviour of a program depends on the interleaving or timing of multiple \n",
    "thread executing  concurrently. It arises when multiple threads access shared resources or variables without proper \n",
    "synchronization, and the final outcome becomes unpredictable. Race condition can lead to incorrect results, data corruption or \n",
    "unexoected behaviour.Race conitions typically occur when the following conditions are met:\n",
    "    Shared access: Two or more threads accessa shared resource, such as a variable or data structure.\n",
    "    Concurrent execution: The threads execute concurrently, possibly in an unpredictable order.\n",
    "    Lack of synchronization: There i no proper synchronization mechanism in place to coordinate access to the shared resource."
   ]
  }
 ],
 "metadata": {
  "kernelspec": {
   "display_name": "Python 3 (ipykernel)",
   "language": "python",
   "name": "python3"
  },
  "language_info": {
   "codemirror_mode": {
    "name": "ipython",
    "version": 3
   },
   "file_extension": ".py",
   "mimetype": "text/x-python",
   "name": "python",
   "nbconvert_exporter": "python",
   "pygments_lexer": "ipython3",
   "version": "3.10.8"
  }
 },
 "nbformat": 4,
 "nbformat_minor": 5
}
